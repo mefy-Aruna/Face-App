{
  "nbformat": 4,
  "nbformat_minor": 0,
  "metadata": {
    "colab": {
      "name": "Classifiers.ipynb",
      "provenance": [],
      "collapsed_sections": [],
      "authorship_tag": "ABX9TyOJCuQRF2uOSuUz3uKFqMKj",
      "include_colab_link": true
    },
    "kernelspec": {
      "name": "python3",
      "display_name": "Python 3"
    }
  },
  "cells": [
    {
      "cell_type": "markdown",
      "metadata": {
        "id": "view-in-github",
        "colab_type": "text"
      },
      "source": [
        "<a href=\"https://colab.research.google.com/github/mefy-Aruna/Face-App/blob/master/Classifiers.ipynb\" target=\"_parent\"><img src=\"https://colab.research.google.com/assets/colab-badge.svg\" alt=\"Open In Colab\"/></a>"
      ]
    },
    {
      "cell_type": "code",
      "metadata": {
        "id": "EXNjYRjQZ7b3"
      },
      "source": [
        "import pandas as pd\n",
        "# import libraries\n",
        "\n",
        "import numpy as np\n",
        "import pandas as pd\n",
        "import matplotlib.pyplot as plt\n",
        "import seaborn as sns"
      ],
      "execution_count": 98,
      "outputs": []
    },
    {
      "cell_type": "code",
      "metadata": {
        "id": "8uNVAVHyacdZ"
      },
      "source": [
        "df = pd.read_csv(r'KNN_dataset.csv')"
      ],
      "execution_count": 99,
      "outputs": []
    },
    {
      "cell_type": "code",
      "metadata": {
        "id": "CZDZ9gLybECv",
        "outputId": "68da0765-2414-4984-a1e4-3fa125552c16",
        "colab": {
          "base_uri": "https://localhost:8080/",
          "height": 404
        }
      },
      "source": [
        "df"
      ],
      "execution_count": 11,
      "outputs": [
        {
          "output_type": "execute_result",
          "data": {
            "text/html": [
              "<div>\n",
              "<style scoped>\n",
              "    .dataframe tbody tr th:only-of-type {\n",
              "        vertical-align: middle;\n",
              "    }\n",
              "\n",
              "    .dataframe tbody tr th {\n",
              "        vertical-align: top;\n",
              "    }\n",
              "\n",
              "    .dataframe thead th {\n",
              "        text-align: right;\n",
              "    }\n",
              "</style>\n",
              "<table border=\"1\" class=\"dataframe\">\n",
              "  <thead>\n",
              "    <tr style=\"text-align: right;\">\n",
              "      <th></th>\n",
              "      <th>0</th>\n",
              "      <th>0.0</th>\n",
              "      <th>56.0</th>\n",
              "      <th>3.5</th>\n",
              "      <th>151.0</th>\n",
              "      <th>2.1</th>\n",
              "      <th>0.9</th>\n",
              "      <th>0.4</th>\n",
              "      <th>0.0.1</th>\n",
              "      <th>0.0.2</th>\n",
              "      <th>16.5</th>\n",
              "      <th>25.0</th>\n",
              "      <th>14.0</th>\n",
              "      <th>50.0</th>\n",
              "      <th>17.0</th>\n",
              "      <th>207.0</th>\n",
              "      <th>1.0</th>\n",
              "    </tr>\n",
              "  </thead>\n",
              "  <tbody>\n",
              "    <tr>\n",
              "      <th>0</th>\n",
              "      <td>1</td>\n",
              "      <td>0.0</td>\n",
              "      <td>72.0</td>\n",
              "      <td>4.6</td>\n",
              "      <td>206.0</td>\n",
              "      <td>7.648248</td>\n",
              "      <td>0.545447</td>\n",
              "      <td>0.517287</td>\n",
              "      <td>0.048379</td>\n",
              "      <td>0.000000</td>\n",
              "      <td>193.700000</td>\n",
              "      <td>31.000000</td>\n",
              "      <td>22.000000</td>\n",
              "      <td>68.675596</td>\n",
              "      <td>41.478343</td>\n",
              "      <td>275.919817</td>\n",
              "      <td>1.0</td>\n",
              "    </tr>\n",
              "    <tr>\n",
              "      <th>1</th>\n",
              "      <td>2</td>\n",
              "      <td>0.0</td>\n",
              "      <td>72.0</td>\n",
              "      <td>16.5</td>\n",
              "      <td>316.0</td>\n",
              "      <td>14.000000</td>\n",
              "      <td>1.200000</td>\n",
              "      <td>0.300000</td>\n",
              "      <td>0.000000</td>\n",
              "      <td>0.000000</td>\n",
              "      <td>318.700000</td>\n",
              "      <td>96.000000</td>\n",
              "      <td>33.000000</td>\n",
              "      <td>80.000000</td>\n",
              "      <td>42.000000</td>\n",
              "      <td>651.000000</td>\n",
              "      <td>1.0</td>\n",
              "    </tr>\n",
              "    <tr>\n",
              "      <th>2</th>\n",
              "      <td>3</td>\n",
              "      <td>0.0</td>\n",
              "      <td>77.0</td>\n",
              "      <td>4.9</td>\n",
              "      <td>198.0</td>\n",
              "      <td>6.434206</td>\n",
              "      <td>1.213807</td>\n",
              "      <td>0.470633</td>\n",
              "      <td>0.031243</td>\n",
              "      <td>0.006231</td>\n",
              "      <td>93.730216</td>\n",
              "      <td>45.480489</td>\n",
              "      <td>30.853113</td>\n",
              "      <td>187.820464</td>\n",
              "      <td>198.913673</td>\n",
              "      <td>340.157876</td>\n",
              "      <td>1.0</td>\n",
              "    </tr>\n",
              "    <tr>\n",
              "      <th>3</th>\n",
              "      <td>4</td>\n",
              "      <td>0.0</td>\n",
              "      <td>77.0</td>\n",
              "      <td>3.0</td>\n",
              "      <td>162.0</td>\n",
              "      <td>2.000000</td>\n",
              "      <td>0.400000</td>\n",
              "      <td>0.400000</td>\n",
              "      <td>0.100000</td>\n",
              "      <td>0.000000</td>\n",
              "      <td>35.401914</td>\n",
              "      <td>21.000000</td>\n",
              "      <td>10.000000</td>\n",
              "      <td>56.314318</td>\n",
              "      <td>40.091000</td>\n",
              "      <td>220.000000</td>\n",
              "      <td>1.0</td>\n",
              "    </tr>\n",
              "    <tr>\n",
              "      <th>4</th>\n",
              "      <td>5</td>\n",
              "      <td>0.0</td>\n",
              "      <td>74.0</td>\n",
              "      <td>5.3</td>\n",
              "      <td>189.0</td>\n",
              "      <td>3.300000</td>\n",
              "      <td>1.300000</td>\n",
              "      <td>0.700000</td>\n",
              "      <td>0.000000</td>\n",
              "      <td>0.000000</td>\n",
              "      <td>4.600000</td>\n",
              "      <td>16.000000</td>\n",
              "      <td>13.000000</td>\n",
              "      <td>68.805692</td>\n",
              "      <td>27.000000</td>\n",
              "      <td>117.000000</td>\n",
              "      <td>1.0</td>\n",
              "    </tr>\n",
              "    <tr>\n",
              "      <th>...</th>\n",
              "      <td>...</td>\n",
              "      <td>...</td>\n",
              "      <td>...</td>\n",
              "      <td>...</td>\n",
              "      <td>...</td>\n",
              "      <td>...</td>\n",
              "      <td>...</td>\n",
              "      <td>...</td>\n",
              "      <td>...</td>\n",
              "      <td>...</td>\n",
              "      <td>...</td>\n",
              "      <td>...</td>\n",
              "      <td>...</td>\n",
              "      <td>...</td>\n",
              "      <td>...</td>\n",
              "      <td>...</td>\n",
              "      <td>...</td>\n",
              "    </tr>\n",
              "    <tr>\n",
              "      <th>272</th>\n",
              "      <td>273</td>\n",
              "      <td>1.0</td>\n",
              "      <td>40.0</td>\n",
              "      <td>5.6</td>\n",
              "      <td>270.0</td>\n",
              "      <td>6.381767</td>\n",
              "      <td>2.401046</td>\n",
              "      <td>0.795453</td>\n",
              "      <td>0.118178</td>\n",
              "      <td>0.059475</td>\n",
              "      <td>16.700000</td>\n",
              "      <td>22.000000</td>\n",
              "      <td>29.000000</td>\n",
              "      <td>78.000000</td>\n",
              "      <td>20.000000</td>\n",
              "      <td>244.218394</td>\n",
              "      <td>0.0</td>\n",
              "    </tr>\n",
              "    <tr>\n",
              "      <th>273</th>\n",
              "      <td>274</td>\n",
              "      <td>0.0</td>\n",
              "      <td>26.0</td>\n",
              "      <td>4.7</td>\n",
              "      <td>44.0</td>\n",
              "      <td>4.175831</td>\n",
              "      <td>1.023744</td>\n",
              "      <td>0.409693</td>\n",
              "      <td>0.043498</td>\n",
              "      <td>0.007250</td>\n",
              "      <td>47.500000</td>\n",
              "      <td>30.000000</td>\n",
              "      <td>44.000000</td>\n",
              "      <td>110.000000</td>\n",
              "      <td>93.000000</td>\n",
              "      <td>175.000000</td>\n",
              "      <td>0.0</td>\n",
              "    </tr>\n",
              "    <tr>\n",
              "      <th>274</th>\n",
              "      <td>275</td>\n",
              "      <td>1.0</td>\n",
              "      <td>44.0</td>\n",
              "      <td>15.7</td>\n",
              "      <td>356.0</td>\n",
              "      <td>6.608854</td>\n",
              "      <td>1.819490</td>\n",
              "      <td>0.834639</td>\n",
              "      <td>0.286977</td>\n",
              "      <td>0.041119</td>\n",
              "      <td>2.400000</td>\n",
              "      <td>31.000000</td>\n",
              "      <td>17.000000</td>\n",
              "      <td>99.147738</td>\n",
              "      <td>36.355230</td>\n",
              "      <td>272.000000</td>\n",
              "      <td>0.0</td>\n",
              "    </tr>\n",
              "    <tr>\n",
              "      <th>275</th>\n",
              "      <td>276</td>\n",
              "      <td>1.0</td>\n",
              "      <td>41.0</td>\n",
              "      <td>12.0</td>\n",
              "      <td>321.0</td>\n",
              "      <td>6.700000</td>\n",
              "      <td>2.300000</td>\n",
              "      <td>1.600000</td>\n",
              "      <td>1.300000</td>\n",
              "      <td>0.100000</td>\n",
              "      <td>41.200000</td>\n",
              "      <td>16.000000</td>\n",
              "      <td>11.000000</td>\n",
              "      <td>201.000000</td>\n",
              "      <td>14.000000</td>\n",
              "      <td>266.000000</td>\n",
              "      <td>0.0</td>\n",
              "    </tr>\n",
              "    <tr>\n",
              "      <th>276</th>\n",
              "      <td>277</td>\n",
              "      <td>0.0</td>\n",
              "      <td>53.0</td>\n",
              "      <td>17.9</td>\n",
              "      <td>272.0</td>\n",
              "      <td>14.100000</td>\n",
              "      <td>2.100000</td>\n",
              "      <td>1.500000</td>\n",
              "      <td>0.200000</td>\n",
              "      <td>0.100000</td>\n",
              "      <td>123.900000</td>\n",
              "      <td>13.000000</td>\n",
              "      <td>10.000000</td>\n",
              "      <td>81.998967</td>\n",
              "      <td>32.051869</td>\n",
              "      <td>258.000000</td>\n",
              "      <td>0.0</td>\n",
              "    </tr>\n",
              "  </tbody>\n",
              "</table>\n",
              "<p>277 rows × 17 columns</p>\n",
              "</div>"
            ],
            "text/plain": [
              "       0  0.0  56.0   3.5  ...        50.0        17.0       207.0  1.0\n",
              "0      1  0.0  72.0   4.6  ...   68.675596   41.478343  275.919817  1.0\n",
              "1      2  0.0  72.0  16.5  ...   80.000000   42.000000  651.000000  1.0\n",
              "2      3  0.0  77.0   4.9  ...  187.820464  198.913673  340.157876  1.0\n",
              "3      4  0.0  77.0   3.0  ...   56.314318   40.091000  220.000000  1.0\n",
              "4      5  0.0  74.0   5.3  ...   68.805692   27.000000  117.000000  1.0\n",
              "..   ...  ...   ...   ...  ...         ...         ...         ...  ...\n",
              "272  273  1.0  40.0   5.6  ...   78.000000   20.000000  244.218394  0.0\n",
              "273  274  0.0  26.0   4.7  ...  110.000000   93.000000  175.000000  0.0\n",
              "274  275  1.0  44.0  15.7  ...   99.147738   36.355230  272.000000  0.0\n",
              "275  276  1.0  41.0  12.0  ...  201.000000   14.000000  266.000000  0.0\n",
              "276  277  0.0  53.0  17.9  ...   81.998967   32.051869  258.000000  0.0\n",
              "\n",
              "[277 rows x 17 columns]"
            ]
          },
          "metadata": {
            "tags": []
          },
          "execution_count": 11
        }
      ]
    },
    {
      "cell_type": "code",
      "metadata": {
        "id": "3ept1MQKbEkA"
      },
      "source": [
        "x = df.iloc[:, 1:16].values\n",
        "y = df.iloc[:, 16].values"
      ],
      "execution_count": 100,
      "outputs": []
    },
    {
      "cell_type": "code",
      "metadata": {
        "id": "SyYh2D__jVQe",
        "outputId": "6b88e952-660b-4fce-8d8e-68e5bf405910",
        "colab": {
          "base_uri": "https://localhost:8080/",
          "height": 234
        }
      },
      "source": [
        "x\n"
      ],
      "execution_count": 92,
      "outputs": [
        {
          "output_type": "execute_result",
          "data": {
            "text/plain": [
              "array([[  0.        ,  72.        ,   4.6       , ...,  68.67559572,\n",
              "         41.47834349, 275.91981709],\n",
              "       [  0.        ,  72.        ,  16.5       , ...,  80.        ,\n",
              "         42.        , 651.        ],\n",
              "       [  0.        ,  77.        ,   4.9       , ..., 187.82046422,\n",
              "        198.91367303, 340.15787572],\n",
              "       ...,\n",
              "       [  1.        ,  44.        ,  15.7       , ...,  99.14773818,\n",
              "         36.35523013, 272.        ],\n",
              "       [  1.        ,  41.        ,  12.        , ..., 201.        ,\n",
              "         14.        , 266.        ],\n",
              "       [  0.        ,  53.        ,  17.9       , ...,  81.99896681,\n",
              "         32.0518687 , 258.        ]])"
            ]
          },
          "metadata": {
            "tags": []
          },
          "execution_count": 92
        }
      ]
    },
    {
      "cell_type": "code",
      "metadata": {
        "id": "Lqtva6GldezP"
      },
      "source": [
        "######### KNN IMPUTED DATASET\n",
        "\n",
        "\n",
        "////////////////////////////"
      ],
      "execution_count": null,
      "outputs": []
    },
    {
      "cell_type": "code",
      "metadata": {
        "id": "BcWdMMb1b2n-",
        "cellView": "form"
      },
      "source": [
        "#@title CLASSIFIER1:KNN\n"
      ],
      "execution_count": 31,
      "outputs": []
    },
    {
      "cell_type": "code",
      "metadata": {
        "id": "mHvnu5Qxb4As"
      },
      "source": [
        "# Train Test Split\n",
        "from sklearn.metrics import classification_report, confusion_matrix, accuracy_score\n",
        "from sklearn.model_selection import train_test_split\n",
        "from sklearn.neighbors import KNeighborsClassifier\n",
        "\n"
      ],
      "execution_count": 119,
      "outputs": []
    },
    {
      "cell_type": "code",
      "metadata": {
        "id": "fIrGqYivcJ2X"
      },
      "source": [
        "x_train, x_test, y_train, y_test = train_test_split(x, y, test_size=0.20)"
      ],
      "execution_count": 120,
      "outputs": []
    },
    {
      "cell_type": "code",
      "metadata": {
        "id": "JyuboGgrcsOi"
      },
      "source": [
        "# Preprocessing\n",
        "\n",
        "from sklearn.preprocessing import StandardScaler\n",
        "scaler = StandardScaler()\n",
        "scaler.fit(x_train)\n",
        "\n",
        "x_train = scaler.transform(x_train)\n",
        "x_test = scaler.transform(x_test)"
      ],
      "execution_count": 130,
      "outputs": []
    },
    {
      "cell_type": "code",
      "metadata": {
        "id": "VXXfo3iycaSP",
        "outputId": "45694fd4-d4ae-45a5-cfa7-3985ed4effe2",
        "colab": {
          "base_uri": "https://localhost:8080/",
          "height": 67
        }
      },
      "source": [
        "KNNclassifier = KNeighborsClassifier(n_neighbors = 7)\n",
        "KNNclassifier.fit(x_train, y_train)"
      ],
      "execution_count": 131,
      "outputs": [
        {
          "output_type": "execute_result",
          "data": {
            "text/plain": [
              "KNeighborsClassifier(algorithm='auto', leaf_size=30, metric='minkowski',\n",
              "                     metric_params=None, n_jobs=None, n_neighbors=7, p=2,\n",
              "                     weights='uniform')"
            ]
          },
          "metadata": {
            "tags": []
          },
          "execution_count": 131
        }
      ]
    },
    {
      "cell_type": "code",
      "metadata": {
        "id": "9b1IXE2Zcb62"
      },
      "source": [
        "y_pred = KNNclassifier.predict(x_test)"
      ],
      "execution_count": 132,
      "outputs": []
    },
    {
      "cell_type": "code",
      "metadata": {
        "id": "17zIkviucfn2",
        "outputId": "227ad38e-618d-46ac-830b-0c49b6137dd0",
        "colab": {
          "base_uri": "https://localhost:8080/",
          "height": 217
        }
      },
      "source": [
        "print(confusion_matrix(y_test, y_pred))\n",
        "print(classification_report(y_test, y_pred))\n",
        "print('KNN acc:',accuracy_score(y_test, y_pred))"
      ],
      "execution_count": 133,
      "outputs": [
        {
          "output_type": "stream",
          "text": [
            "[[11  8]\n",
            " [ 4 33]]\n",
            "              precision    recall  f1-score   support\n",
            "\n",
            "         0.0       0.73      0.58      0.65        19\n",
            "         1.0       0.80      0.89      0.85        37\n",
            "\n",
            "    accuracy                           0.79        56\n",
            "   macro avg       0.77      0.74      0.75        56\n",
            "weighted avg       0.78      0.79      0.78        56\n",
            "\n",
            "KNN acc: 0.7857142857142857\n"
          ],
          "name": "stdout"
        }
      ]
    },
    {
      "cell_type": "code",
      "metadata": {
        "id": "jYuZ1c8YcljC",
        "cellView": "form"
      },
      "source": [
        "#@title CLASSIFIER 2:DECISION TREE\n",
        "\n",
        "\n",
        "\n"
      ],
      "execution_count": 117,
      "outputs": []
    },
    {
      "cell_type": "code",
      "metadata": {
        "id": "t8dtVcP3d7VR"
      },
      "source": [
        "#from sklearn.model_selection import train_test_split\n",
        "#x_train, x_test, y_train, y_test = train_test_split(x, y, test_size=0.2)"
      ],
      "execution_count": 107,
      "outputs": []
    },
    {
      "cell_type": "code",
      "metadata": {
        "id": "kUrfCdeUiUrC",
        "outputId": "c7f5de90-8a36-4238-f586-39c76458e423",
        "colab": {
          "base_uri": "https://localhost:8080/",
          "height": 117
        }
      },
      "source": [
        "from sklearn.tree import DecisionTreeClassifier\n",
        "Decclassifier = DecisionTreeClassifier(criterion=\"entropy\", max_depth = 9)\n",
        "Decclassifier "
      ],
      "execution_count": 153,
      "outputs": [
        {
          "output_type": "execute_result",
          "data": {
            "text/plain": [
              "DecisionTreeClassifier(ccp_alpha=0.0, class_weight=None, criterion='entropy',\n",
              "                       max_depth=9, max_features=None, max_leaf_nodes=None,\n",
              "                       min_impurity_decrease=0.0, min_impurity_split=None,\n",
              "                       min_samples_leaf=1, min_samples_split=2,\n",
              "                       min_weight_fraction_leaf=0.0, presort='deprecated',\n",
              "                       random_state=None, splitter='best')"
            ]
          },
          "metadata": {
            "tags": []
          },
          "execution_count": 153
        }
      ]
    },
    {
      "cell_type": "code",
      "metadata": {
        "id": "LceNNtJkiZl-"
      },
      "source": [
        "\n",
        "Decclassifier.fit(x_train,y_train)\n",
        "y_pred = Decclassifier.predict(x_test)"
      ],
      "execution_count": 154,
      "outputs": []
    },
    {
      "cell_type": "code",
      "metadata": {
        "id": "BY2m0dkYicFm",
        "outputId": "3adb5357-9bcd-46dc-8341-6a14f87c8369",
        "colab": {
          "base_uri": "https://localhost:8080/",
          "height": 33
        }
      },
      "source": [
        "from sklearn import metrics\n",
        "print(\"DecisionTrees's Accuracy: \", metrics.accuracy_score(y_test, y_pred))"
      ],
      "execution_count": 155,
      "outputs": [
        {
          "output_type": "stream",
          "text": [
            "DecisionTrees's Accuracy:  0.75\n"
          ],
          "name": "stdout"
        }
      ]
    },
    {
      "cell_type": "code",
      "metadata": {
        "id": "KxxzJgK7lp4Y",
        "outputId": "65b74285-e46b-4491-c3a4-a608ab952d95",
        "colab": {
          "base_uri": "https://localhost:8080/",
          "height": 217
        }
      },
      "source": [
        "print(confusion_matrix(y_test, y_pred))\n",
        "print(classification_report(y_test, y_pred))\n",
        "print('DecisionTree acc:',accuracy_score(y_test, y_pred))"
      ],
      "execution_count": 156,
      "outputs": [
        {
          "output_type": "stream",
          "text": [
            "[[11  8]\n",
            " [ 6 31]]\n",
            "              precision    recall  f1-score   support\n",
            "\n",
            "         0.0       0.65      0.58      0.61        19\n",
            "         1.0       0.79      0.84      0.82        37\n",
            "\n",
            "    accuracy                           0.75        56\n",
            "   macro avg       0.72      0.71      0.71        56\n",
            "weighted avg       0.74      0.75      0.75        56\n",
            "\n",
            "DecisionTree acc: 0.75\n"
          ],
          "name": "stdout"
        }
      ]
    },
    {
      "cell_type": "code",
      "metadata": {
        "id": "0fVngJNsioXI",
        "cellView": "form"
      },
      "source": [
        "#@title CLASSIFIER 3:SVM\n"
      ],
      "execution_count": null,
      "outputs": []
    },
    {
      "cell_type": "code",
      "metadata": {
        "id": "EsMY4pwClvr0",
        "outputId": "6949d2f5-2e92-40ad-f3c6-c8d38223f86a",
        "colab": {
          "base_uri": "https://localhost:8080/",
          "height": 84
        }
      },
      "source": [
        "\n",
        "# Polynomial Kernel\n",
        "from sklearn.svm import SVC   # Support Vector Classifier\n",
        "SVMclassifier = SVC(kernel ='rbf')\n",
        "SVMclassifier.fit(x_train, y_train)"
      ],
      "execution_count": 162,
      "outputs": [
        {
          "output_type": "execute_result",
          "data": {
            "text/plain": [
              "SVC(C=1.0, break_ties=False, cache_size=200, class_weight=None, coef0=0.0,\n",
              "    decision_function_shape='ovr', degree=3, gamma='scale', kernel='rbf',\n",
              "    max_iter=-1, probability=False, random_state=None, shrinking=True,\n",
              "    tol=0.001, verbose=False)"
            ]
          },
          "metadata": {
            "tags": []
          },
          "execution_count": 162
        }
      ]
    },
    {
      "cell_type": "code",
      "metadata": {
        "id": "0CnTqtEel3i4"
      },
      "source": [
        "y_pred = SVMclassifier.predict(x_test)"
      ],
      "execution_count": 163,
      "outputs": []
    },
    {
      "cell_type": "code",
      "metadata": {
        "id": "1jkvcZopl43K",
        "outputId": "1c18ca45-110a-431e-8c40-be8e713cba29",
        "colab": {
          "base_uri": "https://localhost:8080/",
          "height": 217
        }
      },
      "source": [
        "# Evaluating the Algorithm\n",
        "print(confusion_matrix(y_test, y_pred))\n",
        "print(classification_report(y_test, y_pred))\n",
        "print(accuracy_score(y_test, y_pred))"
      ],
      "execution_count": 164,
      "outputs": [
        {
          "output_type": "stream",
          "text": [
            "[[11  8]\n",
            " [ 2 35]]\n",
            "              precision    recall  f1-score   support\n",
            "\n",
            "         0.0       0.85      0.58      0.69        19\n",
            "         1.0       0.81      0.95      0.88        37\n",
            "\n",
            "    accuracy                           0.82        56\n",
            "   macro avg       0.83      0.76      0.78        56\n",
            "weighted avg       0.82      0.82      0.81        56\n",
            "\n",
            "0.8214285714285714\n"
          ],
          "name": "stdout"
        }
      ]
    },
    {
      "cell_type": "code",
      "metadata": {
        "id": "-67x3yQxl8Hr",
        "cellView": "form"
      },
      "source": [
        "#@title Classifier 4: Random Forest \n"
      ],
      "execution_count": null,
      "outputs": []
    },
    {
      "cell_type": "code",
      "metadata": {
        "id": "9xeoeggImXiV",
        "outputId": "634806d2-b617-467e-9c8a-64b710cf9bf3",
        "colab": {
          "base_uri": "https://localhost:8080/",
          "height": 150
        }
      },
      "source": [
        "# Train the Algorithm\n",
        "from sklearn.ensemble import RandomForestClassifier\n",
        "RFclassifier = RandomForestClassifier(n_estimators = 100)\n",
        "RFclassifier.fit(x_train, y_train)"
      ],
      "execution_count": 211,
      "outputs": [
        {
          "output_type": "execute_result",
          "data": {
            "text/plain": [
              "RandomForestClassifier(bootstrap=True, ccp_alpha=0.0, class_weight=None,\n",
              "                       criterion='gini', max_depth=None, max_features='auto',\n",
              "                       max_leaf_nodes=None, max_samples=None,\n",
              "                       min_impurity_decrease=0.0, min_impurity_split=None,\n",
              "                       min_samples_leaf=1, min_samples_split=2,\n",
              "                       min_weight_fraction_leaf=0.0, n_estimators=100,\n",
              "                       n_jobs=None, oob_score=False, random_state=None,\n",
              "                       verbose=0, warm_start=False)"
            ]
          },
          "metadata": {
            "tags": []
          },
          "execution_count": 211
        }
      ]
    },
    {
      "cell_type": "code",
      "metadata": {
        "id": "HNBgCWUwmg-w"
      },
      "source": [
        "\n",
        "y_pred = RFclassifier.predict(x_test)"
      ],
      "execution_count": 212,
      "outputs": []
    },
    {
      "cell_type": "code",
      "metadata": {
        "id": "c9674ZgOmor9",
        "outputId": "a9edcfb8-1b43-4be3-ab9e-ec31021ec08f",
        "colab": {
          "base_uri": "https://localhost:8080/",
          "height": 217
        }
      },
      "source": [
        "print(confusion_matrix(y_test, y_pred))\n",
        "print(classification_report(y_test, y_pred))\n",
        "print(accuracy_score(y_test, y_pred))"
      ],
      "execution_count": 213,
      "outputs": [
        {
          "output_type": "stream",
          "text": [
            "[[14  5]\n",
            " [ 3 34]]\n",
            "              precision    recall  f1-score   support\n",
            "\n",
            "         0.0       0.82      0.74      0.78        19\n",
            "         1.0       0.87      0.92      0.89        37\n",
            "\n",
            "    accuracy                           0.86        56\n",
            "   macro avg       0.85      0.83      0.84        56\n",
            "weighted avg       0.86      0.86      0.86        56\n",
            "\n",
            "0.8571428571428571\n"
          ],
          "name": "stdout"
        }
      ]
    },
    {
      "cell_type": "code",
      "metadata": {
        "id": "bQsuv5rmmq4B",
        "cellView": "form"
      },
      "source": [
        "#@title Classifier 5: Random Forest regressor\n"
      ],
      "execution_count": null,
      "outputs": []
    },
    {
      "cell_type": "code",
      "metadata": {
        "id": "MzQtJTMnng7M"
      },
      "source": [
        "from sklearn.ensemble import RandomForestRegressor\n",
        "from sklearn.model_selection import cross_val_score"
      ],
      "execution_count": 214,
      "outputs": []
    },
    {
      "cell_type": "code",
      "metadata": {
        "id": "hNPM7F1Inmyo"
      },
      "source": [
        "forest = RandomForestRegressor(n_estimators=100)"
      ],
      "execution_count": 216,
      "outputs": []
    },
    {
      "cell_type": "code",
      "metadata": {
        "id": "ZuTYmXB6npUj"
      },
      "source": [
        "cross_val1 = cross_val_score(forest, x_train,y_train, cv=56)  "
      ],
      "execution_count": 222,
      "outputs": []
    },
    {
      "cell_type": "code",
      "metadata": {
        "id": "bd1ZNzs_nr3P"
      },
      "source": [
        "forest = forest.fit(x_train, y_train)"
      ],
      "execution_count": 223,
      "outputs": []
    },
    {
      "cell_type": "code",
      "metadata": {
        "id": "aIaEQRTPnx0t"
      },
      "source": [
        "y_pred = forest.predict(x_test)"
      ],
      "execution_count": 224,
      "outputs": []
    },
    {
      "cell_type": "code",
      "metadata": {
        "id": "YbfjVba1nzMO",
        "outputId": "ef717f2f-170d-406a-e87b-cbcdff5d5724",
        "colab": {
          "base_uri": "https://localhost:8080/",
          "height": 336
        }
      },
      "source": [
        "#print(confusion_matrix(y_test, y_pred))\n",
        "#print(classification_report(y_test, y_pred))\n",
        "#print(accuracy_score(cross_val1, y_pred))\n",
        "print(\"DecisionTrees's Accuracy: \", metrics.accuracy_score(cross_val1, y_pred))"
      ],
      "execution_count": 226,
      "outputs": [
        {
          "output_type": "error",
          "ename": "ValueError",
          "evalue": "ignored",
          "traceback": [
            "\u001b[0;31m---------------------------------------------------------------------------\u001b[0m",
            "\u001b[0;31mValueError\u001b[0m                                Traceback (most recent call last)",
            "\u001b[0;32m<ipython-input-226-e6c2c2c27ac3>\u001b[0m in \u001b[0;36m<module>\u001b[0;34m()\u001b[0m\n\u001b[1;32m      2\u001b[0m \u001b[0;31m#print(classification_report(y_test, y_pred))\u001b[0m\u001b[0;34m\u001b[0m\u001b[0;34m\u001b[0m\u001b[0;34m\u001b[0m\u001b[0m\n\u001b[1;32m      3\u001b[0m \u001b[0;31m#print(accuracy_score(cross_val1, y_pred))\u001b[0m\u001b[0;34m\u001b[0m\u001b[0;34m\u001b[0m\u001b[0;34m\u001b[0m\u001b[0m\n\u001b[0;32m----> 4\u001b[0;31m \u001b[0mprint\u001b[0m\u001b[0;34m(\u001b[0m\u001b[0;34m\"DecisionTrees's Accuracy: \"\u001b[0m\u001b[0;34m,\u001b[0m \u001b[0mmetrics\u001b[0m\u001b[0;34m.\u001b[0m\u001b[0maccuracy_score\u001b[0m\u001b[0;34m(\u001b[0m\u001b[0mcross_val1\u001b[0m\u001b[0;34m,\u001b[0m \u001b[0my_pred\u001b[0m\u001b[0;34m)\u001b[0m\u001b[0;34m)\u001b[0m\u001b[0;34m\u001b[0m\u001b[0;34m\u001b[0m\u001b[0m\n\u001b[0m",
            "\u001b[0;32m/usr/local/lib/python3.6/dist-packages/sklearn/metrics/_classification.py\u001b[0m in \u001b[0;36maccuracy_score\u001b[0;34m(y_true, y_pred, normalize, sample_weight)\u001b[0m\n\u001b[1;32m    183\u001b[0m \u001b[0;34m\u001b[0m\u001b[0m\n\u001b[1;32m    184\u001b[0m     \u001b[0;31m# Compute accuracy for each possible representation\u001b[0m\u001b[0;34m\u001b[0m\u001b[0;34m\u001b[0m\u001b[0;34m\u001b[0m\u001b[0m\n\u001b[0;32m--> 185\u001b[0;31m     \u001b[0my_type\u001b[0m\u001b[0;34m,\u001b[0m \u001b[0my_true\u001b[0m\u001b[0;34m,\u001b[0m \u001b[0my_pred\u001b[0m \u001b[0;34m=\u001b[0m \u001b[0m_check_targets\u001b[0m\u001b[0;34m(\u001b[0m\u001b[0my_true\u001b[0m\u001b[0;34m,\u001b[0m \u001b[0my_pred\u001b[0m\u001b[0;34m)\u001b[0m\u001b[0;34m\u001b[0m\u001b[0;34m\u001b[0m\u001b[0m\n\u001b[0m\u001b[1;32m    186\u001b[0m     \u001b[0mcheck_consistent_length\u001b[0m\u001b[0;34m(\u001b[0m\u001b[0my_true\u001b[0m\u001b[0;34m,\u001b[0m \u001b[0my_pred\u001b[0m\u001b[0;34m,\u001b[0m \u001b[0msample_weight\u001b[0m\u001b[0;34m)\u001b[0m\u001b[0;34m\u001b[0m\u001b[0;34m\u001b[0m\u001b[0m\n\u001b[1;32m    187\u001b[0m     \u001b[0;32mif\u001b[0m \u001b[0my_type\u001b[0m\u001b[0;34m.\u001b[0m\u001b[0mstartswith\u001b[0m\u001b[0;34m(\u001b[0m\u001b[0;34m'multilabel'\u001b[0m\u001b[0;34m)\u001b[0m\u001b[0;34m:\u001b[0m\u001b[0;34m\u001b[0m\u001b[0;34m\u001b[0m\u001b[0m\n",
            "\u001b[0;32m/usr/local/lib/python3.6/dist-packages/sklearn/metrics/_classification.py\u001b[0m in \u001b[0;36m_check_targets\u001b[0;34m(y_true, y_pred)\u001b[0m\n\u001b[1;32m     95\u001b[0m     \u001b[0;31m# No metrics support \"multiclass-multioutput\" format\u001b[0m\u001b[0;34m\u001b[0m\u001b[0;34m\u001b[0m\u001b[0;34m\u001b[0m\u001b[0m\n\u001b[1;32m     96\u001b[0m     \u001b[0;32mif\u001b[0m \u001b[0;34m(\u001b[0m\u001b[0my_type\u001b[0m \u001b[0;32mnot\u001b[0m \u001b[0;32min\u001b[0m \u001b[0;34m[\u001b[0m\u001b[0;34m\"binary\"\u001b[0m\u001b[0;34m,\u001b[0m \u001b[0;34m\"multiclass\"\u001b[0m\u001b[0;34m,\u001b[0m \u001b[0;34m\"multilabel-indicator\"\u001b[0m\u001b[0;34m]\u001b[0m\u001b[0;34m)\u001b[0m\u001b[0;34m:\u001b[0m\u001b[0;34m\u001b[0m\u001b[0;34m\u001b[0m\u001b[0m\n\u001b[0;32m---> 97\u001b[0;31m         \u001b[0;32mraise\u001b[0m \u001b[0mValueError\u001b[0m\u001b[0;34m(\u001b[0m\u001b[0;34m\"{0} is not supported\"\u001b[0m\u001b[0;34m.\u001b[0m\u001b[0mformat\u001b[0m\u001b[0;34m(\u001b[0m\u001b[0my_type\u001b[0m\u001b[0;34m)\u001b[0m\u001b[0;34m)\u001b[0m\u001b[0;34m\u001b[0m\u001b[0;34m\u001b[0m\u001b[0m\n\u001b[0m\u001b[1;32m     98\u001b[0m \u001b[0;34m\u001b[0m\u001b[0m\n\u001b[1;32m     99\u001b[0m     \u001b[0;32mif\u001b[0m \u001b[0my_type\u001b[0m \u001b[0;32min\u001b[0m \u001b[0;34m[\u001b[0m\u001b[0;34m\"binary\"\u001b[0m\u001b[0;34m,\u001b[0m \u001b[0;34m\"multiclass\"\u001b[0m\u001b[0;34m]\u001b[0m\u001b[0;34m:\u001b[0m\u001b[0;34m\u001b[0m\u001b[0;34m\u001b[0m\u001b[0m\n",
            "\u001b[0;31mValueError\u001b[0m: continuous is not supported"
          ]
        }
      ]
    },
    {
      "cell_type": "code",
      "metadata": {
        "id": "jLL5g2A8n2Bv",
        "cellView": "form"
      },
      "source": [
        "#@title Classifier 6: LOGISTIC REGRESSION\n"
      ],
      "execution_count": null,
      "outputs": []
    },
    {
      "cell_type": "code",
      "metadata": {
        "id": "g24t5N2iog4o",
        "outputId": "91c61d84-476f-4d62-d651-af2a28d7b03a",
        "colab": {
          "base_uri": "https://localhost:8080/",
          "height": 100
        }
      },
      "source": [
        "from sklearn.linear_model import LogisticRegression\n",
        "LR = LogisticRegression(C=0.09, solver='liblinear')\n",
        "LR.fit(x_train,y_train)"
      ],
      "execution_count": 261,
      "outputs": [
        {
          "output_type": "execute_result",
          "data": {
            "text/plain": [
              "LogisticRegression(C=0.09, class_weight=None, dual=False, fit_intercept=True,\n",
              "                   intercept_scaling=1, l1_ratio=None, max_iter=100,\n",
              "                   multi_class='auto', n_jobs=None, penalty='l2',\n",
              "                   random_state=None, solver='liblinear', tol=0.0001, verbose=0,\n",
              "                   warm_start=False)"
            ]
          },
          "metadata": {
            "tags": []
          },
          "execution_count": 261
        }
      ]
    },
    {
      "cell_type": "code",
      "metadata": {
        "id": "fDwUS4FkoqEj"
      },
      "source": [
        "LR_pred = LR.predict(x_test)"
      ],
      "execution_count": 262,
      "outputs": []
    },
    {
      "cell_type": "code",
      "metadata": {
        "id": "uuUKqIbjor-i",
        "outputId": "df95c4c7-56d6-4df5-eaf4-0ebddc9d55e0",
        "colab": {
          "base_uri": "https://localhost:8080/",
          "height": 217
        }
      },
      "source": [
        "print(confusion_matrix(y_test, LR_pred))\n",
        "print(classification_report(y_test, LR_pred))\n",
        "print(accuracy_score(y_test, LR_pred))"
      ],
      "execution_count": 263,
      "outputs": [
        {
          "output_type": "stream",
          "text": [
            "[[14  5]\n",
            " [ 2 35]]\n",
            "              precision    recall  f1-score   support\n",
            "\n",
            "         0.0       0.88      0.74      0.80        19\n",
            "         1.0       0.88      0.95      0.91        37\n",
            "\n",
            "    accuracy                           0.88        56\n",
            "   macro avg       0.88      0.84      0.85        56\n",
            "weighted avg       0.88      0.88      0.87        56\n",
            "\n",
            "0.875\n"
          ],
          "name": "stdout"
        }
      ]
    },
    {
      "cell_type": "code",
      "metadata": {
        "id": "4QIDxwR9otxV",
        "cellView": "form"
      },
      "source": [
        "#@title CLASSIFIER 7: GAUSSIAN\n"
      ],
      "execution_count": 264,
      "outputs": []
    },
    {
      "cell_type": "code",
      "metadata": {
        "id": "iCmjgyZDpaeB"
      },
      "source": [
        "# import Gaussian Naive Bayes import GaussianNB\n",
        "from sklearn.naive_bayes import GaussianNB\n",
        "\n",
        "#Create a Gaussian Classifier \n",
        "gnb = GaussianNB()\n",
        "\n",
        "# Train the model using the training sets\n",
        "gnb.fit(x_train, y_train)\n",
        "\n",
        "# Predict the response for the test dataset\n",
        "y_pred = gnb.predict(x_test)"
      ],
      "execution_count": 265,
      "outputs": []
    },
    {
      "cell_type": "code",
      "metadata": {
        "id": "Kpxnj0_spiop",
        "outputId": "c623be51-6750-49b2-f2f8-fbc922e8986d",
        "colab": {
          "base_uri": "https://localhost:8080/",
          "height": 217
        }
      },
      "source": [
        "print(confusion_matrix(y_test, y_pred))\n",
        "print(classification_report(y_test, y_pred))\n",
        "print(accuracy_score(y_test, y_pred))"
      ],
      "execution_count": 266,
      "outputs": [
        {
          "output_type": "stream",
          "text": [
            "[[13  6]\n",
            " [ 7 30]]\n",
            "              precision    recall  f1-score   support\n",
            "\n",
            "         0.0       0.65      0.68      0.67        19\n",
            "         1.0       0.83      0.81      0.82        37\n",
            "\n",
            "    accuracy                           0.77        56\n",
            "   macro avg       0.74      0.75      0.74        56\n",
            "weighted avg       0.77      0.77      0.77        56\n",
            "\n",
            "0.7678571428571429\n"
          ],
          "name": "stdout"
        }
      ]
    },
    {
      "cell_type": "code",
      "metadata": {
        "id": "-DIiG0gXprP5",
        "outputId": "4da2af72-4427-4b42-eaa6-471b4d5b59f9",
        "colab": {
          "base_uri": "https://localhost:8080/",
          "height": 33
        }
      },
      "source": [
        "print(\"Accuracy:\",metrics.accuracy_score(y_test, y_pred))"
      ],
      "execution_count": 267,
      "outputs": [
        {
          "output_type": "stream",
          "text": [
            "Accuracy: 0.7678571428571429\n"
          ],
          "name": "stdout"
        }
      ]
    },
    {
      "cell_type": "code",
      "metadata": {
        "id": "C_li4c55p9cL",
        "cellView": "form"
      },
      "source": [
        "#@title CLASSIFIER 8: with LDA\n"
      ],
      "execution_count": null,
      "outputs": []
    },
    {
      "cell_type": "code",
      "metadata": {
        "id": "qn4hAbOwvHgg"
      },
      "source": [
        "from sklearn.discriminant_analysis import LinearDiscriminantAnalysis as LDA\n",
        "\n",
        "lda = LDA(n_components=1)\n",
        "X_train = lda.fit_transform(x_train, y_train)\n",
        "X_test = lda.transform(x_test)"
      ],
      "execution_count": 268,
      "outputs": []
    },
    {
      "cell_type": "code",
      "metadata": {
        "id": "AzGLXXY2vHiz"
      },
      "source": [
        "from sklearn.ensemble import RandomForestClassifier\n",
        "\n",
        "classifier = RandomForestClassifier(max_depth=3)\n",
        "\n",
        "classifier.fit(X_train, y_train)\n",
        "y_pred = classifier.predict(X_test)"
      ],
      "execution_count": 276,
      "outputs": []
    },
    {
      "cell_type": "code",
      "metadata": {
        "id": "Hs7Z-m1wvHmK",
        "outputId": "faf8080a-15da-4f81-8a22-0e4b196ab9d3",
        "colab": {
          "base_uri": "https://localhost:8080/",
          "height": 67
        }
      },
      "source": [
        "from sklearn.metrics import confusion_matrix\n",
        "from sklearn.metrics import accuracy_score\n",
        "\n",
        "cm = confusion_matrix(y_test, y_pred)\n",
        "print(cm)\n",
        "print('Accuracy' + str(accuracy_score(y_test, y_pred)))"
      ],
      "execution_count": 277,
      "outputs": [
        {
          "output_type": "stream",
          "text": [
            "[[12  7]\n",
            " [ 2 35]]\n",
            "Accuracy0.8392857142857143\n"
          ],
          "name": "stdout"
        }
      ]
    },
    {
      "cell_type": "code",
      "metadata": {
        "id": "C6Ewp2flpuPf",
        "cellView": "form"
      },
      "source": [
        "#@title CLASSIFIER 9: PERCEPTRON\n"
      ],
      "execution_count": 278,
      "outputs": []
    },
    {
      "cell_type": "code",
      "metadata": {
        "id": "itkwc6e3p26E"
      },
      "source": [
        "from sklearn.linear_model import Perceptron"
      ],
      "execution_count": 282,
      "outputs": []
    },
    {
      "cell_type": "code",
      "metadata": {
        "id": "n2cROjr8p273",
        "outputId": "945e8ecb-aee7-40f5-8092-f78cd2c870e3",
        "colab": {
          "base_uri": "https://localhost:8080/",
          "height": 84
        }
      },
      "source": [
        "cls= Perceptron()\n",
        "cls.fit(x_train,y_train)\n"
      ],
      "execution_count": 298,
      "outputs": [
        {
          "output_type": "execute_result",
          "data": {
            "text/plain": [
              "Perceptron(alpha=0.0001, class_weight=None, early_stopping=False, eta0=1.0,\n",
              "           fit_intercept=True, max_iter=1000, n_iter_no_change=5, n_jobs=None,\n",
              "           penalty=None, random_state=0, shuffle=True, tol=0.001,\n",
              "           validation_fraction=0.1, verbose=0, warm_start=False)"
            ]
          },
          "metadata": {
            "tags": []
          },
          "execution_count": 298
        }
      ]
    },
    {
      "cell_type": "code",
      "metadata": {
        "id": "-CTxpuLFp2-h"
      },
      "source": [
        "y_pred = cls.predict(x_test)"
      ],
      "execution_count": 299,
      "outputs": []
    },
    {
      "cell_type": "code",
      "metadata": {
        "id": "pxdoqbESp3Ad",
        "outputId": "d04507b9-0c14-4951-b3cd-abca7bcf17ae",
        "colab": {
          "base_uri": "https://localhost:8080/",
          "height": 217
        }
      },
      "source": [
        "print(confusion_matrix(y_test, y_pred))\n",
        "print(classification_report(y_test, y_pred))\n",
        "print(accuracy_score(y_test, y_pred))"
      ],
      "execution_count": 300,
      "outputs": [
        {
          "output_type": "stream",
          "text": [
            "[[13  6]\n",
            " [ 6 31]]\n",
            "              precision    recall  f1-score   support\n",
            "\n",
            "         0.0       0.68      0.68      0.68        19\n",
            "         1.0       0.84      0.84      0.84        37\n",
            "\n",
            "    accuracy                           0.79        56\n",
            "   macro avg       0.76      0.76      0.76        56\n",
            "weighted avg       0.79      0.79      0.79        56\n",
            "\n",
            "0.7857142857142857\n"
          ],
          "name": "stdout"
        }
      ]
    },
    {
      "cell_type": "code",
      "metadata": {
        "id": "ecNBXwGPp3DN"
      },
      "source": [
        ""
      ],
      "execution_count": null,
      "outputs": []
    },
    {
      "cell_type": "code",
      "metadata": {
        "id": "zkPISIlep3FD"
      },
      "source": [
        ""
      ],
      "execution_count": null,
      "outputs": []
    }
  ]
}