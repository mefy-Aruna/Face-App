{
  "nbformat": 4,
  "nbformat_minor": 0,
  "metadata": {
    "colab": {
      "name": "Classifiers.ipynb",
      "provenance": [],
      "collapsed_sections": [],
      "authorship_tag": "ABX9TyOCPYgLCj9Z7kzsB6Yvaxex",
      "include_colab_link": true
    },
    "kernelspec": {
      "name": "python3",
      "display_name": "Python 3"
    }
  },
  "cells": [
    {
      "cell_type": "markdown",
      "metadata": {
        "id": "view-in-github",
        "colab_type": "text"
      },
      "source": [
        "<a href=\"https://colab.research.google.com/github/mefy-Aruna/Face-App/blob/master/Classifiers.ipynb\" target=\"_parent\"><img src=\"https://colab.research.google.com/assets/colab-badge.svg\" alt=\"Open In Colab\"/></a>"
      ]
    },
    {
      "cell_type": "code",
      "metadata": {
        "id": "EXNjYRjQZ7b3"
      },
      "source": [
        "import pandas as pd\n",
        "# import libraries\n",
        "\n",
        "import numpy as np\n",
        "import pandas as pd\n",
        "import matplotlib.pyplot as plt\n",
        "import seaborn as sns"
      ],
      "execution_count": 98,
      "outputs": []
    },
    {
      "cell_type": "code",
      "metadata": {
        "id": "8uNVAVHyacdZ"
      },
      "source": [
        "df = pd.read_csv(r'KNN_dataset.csv')"
      ],
      "execution_count": 99,
      "outputs": []
    },
    {
      "cell_type": "code",
      "metadata": {
        "id": "CZDZ9gLybECv",
        "outputId": "68da0765-2414-4984-a1e4-3fa125552c16",
        "colab": {
          "base_uri": "https://localhost:8080/",
          "height": 404
        }
      },
      "source": [
        "df"
      ],
      "execution_count": 11,
      "outputs": [
        {
          "output_type": "execute_result",
          "data": {
            "text/html": [
              "<div>\n",
              "<style scoped>\n",
              "    .dataframe tbody tr th:only-of-type {\n",
              "        vertical-align: middle;\n",
              "    }\n",
              "\n",
              "    .dataframe tbody tr th {\n",
              "        vertical-align: top;\n",
              "    }\n",
              "\n",
              "    .dataframe thead th {\n",
              "        text-align: right;\n",
              "    }\n",
              "</style>\n",
              "<table border=\"1\" class=\"dataframe\">\n",
              "  <thead>\n",
              "    <tr style=\"text-align: right;\">\n",
              "      <th></th>\n",
              "      <th>0</th>\n",
              "      <th>0.0</th>\n",
              "      <th>56.0</th>\n",
              "      <th>3.5</th>\n",
              "      <th>151.0</th>\n",
              "      <th>2.1</th>\n",
              "      <th>0.9</th>\n",
              "      <th>0.4</th>\n",
              "      <th>0.0.1</th>\n",
              "      <th>0.0.2</th>\n",
              "      <th>16.5</th>\n",
              "      <th>25.0</th>\n",
              "      <th>14.0</th>\n",
              "      <th>50.0</th>\n",
              "      <th>17.0</th>\n",
              "      <th>207.0</th>\n",
              "      <th>1.0</th>\n",
              "    </tr>\n",
              "  </thead>\n",
              "  <tbody>\n",
              "    <tr>\n",
              "      <th>0</th>\n",
              "      <td>1</td>\n",
              "      <td>0.0</td>\n",
              "      <td>72.0</td>\n",
              "      <td>4.6</td>\n",
              "      <td>206.0</td>\n",
              "      <td>7.648248</td>\n",
              "      <td>0.545447</td>\n",
              "      <td>0.517287</td>\n",
              "      <td>0.048379</td>\n",
              "      <td>0.000000</td>\n",
              "      <td>193.700000</td>\n",
              "      <td>31.000000</td>\n",
              "      <td>22.000000</td>\n",
              "      <td>68.675596</td>\n",
              "      <td>41.478343</td>\n",
              "      <td>275.919817</td>\n",
              "      <td>1.0</td>\n",
              "    </tr>\n",
              "    <tr>\n",
              "      <th>1</th>\n",
              "      <td>2</td>\n",
              "      <td>0.0</td>\n",
              "      <td>72.0</td>\n",
              "      <td>16.5</td>\n",
              "      <td>316.0</td>\n",
              "      <td>14.000000</td>\n",
              "      <td>1.200000</td>\n",
              "      <td>0.300000</td>\n",
              "      <td>0.000000</td>\n",
              "      <td>0.000000</td>\n",
              "      <td>318.700000</td>\n",
              "      <td>96.000000</td>\n",
              "      <td>33.000000</td>\n",
              "      <td>80.000000</td>\n",
              "      <td>42.000000</td>\n",
              "      <td>651.000000</td>\n",
              "      <td>1.0</td>\n",
              "    </tr>\n",
              "    <tr>\n",
              "      <th>2</th>\n",
              "      <td>3</td>\n",
              "      <td>0.0</td>\n",
              "      <td>77.0</td>\n",
              "      <td>4.9</td>\n",
              "      <td>198.0</td>\n",
              "      <td>6.434206</td>\n",
              "      <td>1.213807</td>\n",
              "      <td>0.470633</td>\n",
              "      <td>0.031243</td>\n",
              "      <td>0.006231</td>\n",
              "      <td>93.730216</td>\n",
              "      <td>45.480489</td>\n",
              "      <td>30.853113</td>\n",
              "      <td>187.820464</td>\n",
              "      <td>198.913673</td>\n",
              "      <td>340.157876</td>\n",
              "      <td>1.0</td>\n",
              "    </tr>\n",
              "    <tr>\n",
              "      <th>3</th>\n",
              "      <td>4</td>\n",
              "      <td>0.0</td>\n",
              "      <td>77.0</td>\n",
              "      <td>3.0</td>\n",
              "      <td>162.0</td>\n",
              "      <td>2.000000</td>\n",
              "      <td>0.400000</td>\n",
              "      <td>0.400000</td>\n",
              "      <td>0.100000</td>\n",
              "      <td>0.000000</td>\n",
              "      <td>35.401914</td>\n",
              "      <td>21.000000</td>\n",
              "      <td>10.000000</td>\n",
              "      <td>56.314318</td>\n",
              "      <td>40.091000</td>\n",
              "      <td>220.000000</td>\n",
              "      <td>1.0</td>\n",
              "    </tr>\n",
              "    <tr>\n",
              "      <th>4</th>\n",
              "      <td>5</td>\n",
              "      <td>0.0</td>\n",
              "      <td>74.0</td>\n",
              "      <td>5.3</td>\n",
              "      <td>189.0</td>\n",
              "      <td>3.300000</td>\n",
              "      <td>1.300000</td>\n",
              "      <td>0.700000</td>\n",
              "      <td>0.000000</td>\n",
              "      <td>0.000000</td>\n",
              "      <td>4.600000</td>\n",
              "      <td>16.000000</td>\n",
              "      <td>13.000000</td>\n",
              "      <td>68.805692</td>\n",
              "      <td>27.000000</td>\n",
              "      <td>117.000000</td>\n",
              "      <td>1.0</td>\n",
              "    </tr>\n",
              "    <tr>\n",
              "      <th>...</th>\n",
              "      <td>...</td>\n",
              "      <td>...</td>\n",
              "      <td>...</td>\n",
              "      <td>...</td>\n",
              "      <td>...</td>\n",
              "      <td>...</td>\n",
              "      <td>...</td>\n",
              "      <td>...</td>\n",
              "      <td>...</td>\n",
              "      <td>...</td>\n",
              "      <td>...</td>\n",
              "      <td>...</td>\n",
              "      <td>...</td>\n",
              "      <td>...</td>\n",
              "      <td>...</td>\n",
              "      <td>...</td>\n",
              "      <td>...</td>\n",
              "    </tr>\n",
              "    <tr>\n",
              "      <th>272</th>\n",
              "      <td>273</td>\n",
              "      <td>1.0</td>\n",
              "      <td>40.0</td>\n",
              "      <td>5.6</td>\n",
              "      <td>270.0</td>\n",
              "      <td>6.381767</td>\n",
              "      <td>2.401046</td>\n",
              "      <td>0.795453</td>\n",
              "      <td>0.118178</td>\n",
              "      <td>0.059475</td>\n",
              "      <td>16.700000</td>\n",
              "      <td>22.000000</td>\n",
              "      <td>29.000000</td>\n",
              "      <td>78.000000</td>\n",
              "      <td>20.000000</td>\n",
              "      <td>244.218394</td>\n",
              "      <td>0.0</td>\n",
              "    </tr>\n",
              "    <tr>\n",
              "      <th>273</th>\n",
              "      <td>274</td>\n",
              "      <td>0.0</td>\n",
              "      <td>26.0</td>\n",
              "      <td>4.7</td>\n",
              "      <td>44.0</td>\n",
              "      <td>4.175831</td>\n",
              "      <td>1.023744</td>\n",
              "      <td>0.409693</td>\n",
              "      <td>0.043498</td>\n",
              "      <td>0.007250</td>\n",
              "      <td>47.500000</td>\n",
              "      <td>30.000000</td>\n",
              "      <td>44.000000</td>\n",
              "      <td>110.000000</td>\n",
              "      <td>93.000000</td>\n",
              "      <td>175.000000</td>\n",
              "      <td>0.0</td>\n",
              "    </tr>\n",
              "    <tr>\n",
              "      <th>274</th>\n",
              "      <td>275</td>\n",
              "      <td>1.0</td>\n",
              "      <td>44.0</td>\n",
              "      <td>15.7</td>\n",
              "      <td>356.0</td>\n",
              "      <td>6.608854</td>\n",
              "      <td>1.819490</td>\n",
              "      <td>0.834639</td>\n",
              "      <td>0.286977</td>\n",
              "      <td>0.041119</td>\n",
              "      <td>2.400000</td>\n",
              "      <td>31.000000</td>\n",
              "      <td>17.000000</td>\n",
              "      <td>99.147738</td>\n",
              "      <td>36.355230</td>\n",
              "      <td>272.000000</td>\n",
              "      <td>0.0</td>\n",
              "    </tr>\n",
              "    <tr>\n",
              "      <th>275</th>\n",
              "      <td>276</td>\n",
              "      <td>1.0</td>\n",
              "      <td>41.0</td>\n",
              "      <td>12.0</td>\n",
              "      <td>321.0</td>\n",
              "      <td>6.700000</td>\n",
              "      <td>2.300000</td>\n",
              "      <td>1.600000</td>\n",
              "      <td>1.300000</td>\n",
              "      <td>0.100000</td>\n",
              "      <td>41.200000</td>\n",
              "      <td>16.000000</td>\n",
              "      <td>11.000000</td>\n",
              "      <td>201.000000</td>\n",
              "      <td>14.000000</td>\n",
              "      <td>266.000000</td>\n",
              "      <td>0.0</td>\n",
              "    </tr>\n",
              "    <tr>\n",
              "      <th>276</th>\n",
              "      <td>277</td>\n",
              "      <td>0.0</td>\n",
              "      <td>53.0</td>\n",
              "      <td>17.9</td>\n",
              "      <td>272.0</td>\n",
              "      <td>14.100000</td>\n",
              "      <td>2.100000</td>\n",
              "      <td>1.500000</td>\n",
              "      <td>0.200000</td>\n",
              "      <td>0.100000</td>\n",
              "      <td>123.900000</td>\n",
              "      <td>13.000000</td>\n",
              "      <td>10.000000</td>\n",
              "      <td>81.998967</td>\n",
              "      <td>32.051869</td>\n",
              "      <td>258.000000</td>\n",
              "      <td>0.0</td>\n",
              "    </tr>\n",
              "  </tbody>\n",
              "</table>\n",
              "<p>277 rows × 17 columns</p>\n",
              "</div>"
            ],
            "text/plain": [
              "       0  0.0  56.0   3.5  ...        50.0        17.0       207.0  1.0\n",
              "0      1  0.0  72.0   4.6  ...   68.675596   41.478343  275.919817  1.0\n",
              "1      2  0.0  72.0  16.5  ...   80.000000   42.000000  651.000000  1.0\n",
              "2      3  0.0  77.0   4.9  ...  187.820464  198.913673  340.157876  1.0\n",
              "3      4  0.0  77.0   3.0  ...   56.314318   40.091000  220.000000  1.0\n",
              "4      5  0.0  74.0   5.3  ...   68.805692   27.000000  117.000000  1.0\n",
              "..   ...  ...   ...   ...  ...         ...         ...         ...  ...\n",
              "272  273  1.0  40.0   5.6  ...   78.000000   20.000000  244.218394  0.0\n",
              "273  274  0.0  26.0   4.7  ...  110.000000   93.000000  175.000000  0.0\n",
              "274  275  1.0  44.0  15.7  ...   99.147738   36.355230  272.000000  0.0\n",
              "275  276  1.0  41.0  12.0  ...  201.000000   14.000000  266.000000  0.0\n",
              "276  277  0.0  53.0  17.9  ...   81.998967   32.051869  258.000000  0.0\n",
              "\n",
              "[277 rows x 17 columns]"
            ]
          },
          "metadata": {
            "tags": []
          },
          "execution_count": 11
        }
      ]
    },
    {
      "cell_type": "code",
      "metadata": {
        "id": "3ept1MQKbEkA"
      },
      "source": [
        "x = df.iloc[:, 1:16].values\n",
        "y = df.iloc[:, 16].values"
      ],
      "execution_count": 100,
      "outputs": []
    },
    {
      "cell_type": "code",
      "metadata": {
        "id": "SyYh2D__jVQe",
        "outputId": "6b88e952-660b-4fce-8d8e-68e5bf405910",
        "colab": {
          "base_uri": "https://localhost:8080/",
          "height": 234
        }
      },
      "source": [
        "x\n"
      ],
      "execution_count": 92,
      "outputs": [
        {
          "output_type": "execute_result",
          "data": {
            "text/plain": [
              "array([[  0.        ,  72.        ,   4.6       , ...,  68.67559572,\n",
              "         41.47834349, 275.91981709],\n",
              "       [  0.        ,  72.        ,  16.5       , ...,  80.        ,\n",
              "         42.        , 651.        ],\n",
              "       [  0.        ,  77.        ,   4.9       , ..., 187.82046422,\n",
              "        198.91367303, 340.15787572],\n",
              "       ...,\n",
              "       [  1.        ,  44.        ,  15.7       , ...,  99.14773818,\n",
              "         36.35523013, 272.        ],\n",
              "       [  1.        ,  41.        ,  12.        , ..., 201.        ,\n",
              "         14.        , 266.        ],\n",
              "       [  0.        ,  53.        ,  17.9       , ...,  81.99896681,\n",
              "         32.0518687 , 258.        ]])"
            ]
          },
          "metadata": {
            "tags": []
          },
          "execution_count": 92
        }
      ]
    },
    {
      "cell_type": "code",
      "metadata": {
        "id": "Lqtva6GldezP"
      },
      "source": [
        "######### KNN IMPUTED DATASET\n",
        "\n",
        "\n",
        "////////////////////////////"
      ],
      "execution_count": null,
      "outputs": []
    },
    {
      "cell_type": "code",
      "metadata": {
        "id": "BcWdMMb1b2n-",
        "cellView": "form"
      },
      "source": [
        "#@title CLASSIFIER1:KNN\n"
      ],
      "execution_count": 31,
      "outputs": []
    },
    {
      "cell_type": "code",
      "metadata": {
        "id": "mHvnu5Qxb4As"
      },
      "source": [
        "# Train Test Split\n",
        "from sklearn.metrics import classification_report, confusion_matrix, accuracy_score\n",
        "from sklearn.model_selection import train_test_split\n",
        "from sklearn.neighbors import KNeighborsClassifier\n",
        "\n"
      ],
      "execution_count": 119,
      "outputs": []
    },
    {
      "cell_type": "code",
      "metadata": {
        "id": "fIrGqYivcJ2X"
      },
      "source": [
        "x_train, x_test, y_train, y_test = train_test_split(x, y, test_size=0.20)"
      ],
      "execution_count": 120,
      "outputs": []
    },
    {
      "cell_type": "code",
      "metadata": {
        "id": "JyuboGgrcsOi"
      },
      "source": [
        "# Preprocessing\n",
        "\n",
        "from sklearn.preprocessing import StandardScaler\n",
        "scaler = StandardScaler()\n",
        "scaler.fit(x_train)\n",
        "\n",
        "x_train = scaler.transform(x_train)\n",
        "x_test = scaler.transform(x_test)"
      ],
      "execution_count": 130,
      "outputs": []
    },
    {
      "cell_type": "code",
      "metadata": {
        "id": "VXXfo3iycaSP",
        "outputId": "45694fd4-d4ae-45a5-cfa7-3985ed4effe2",
        "colab": {
          "base_uri": "https://localhost:8080/",
          "height": 67
        }
      },
      "source": [
        "KNNclassifier = KNeighborsClassifier(n_neighbors = 7)\n",
        "KNNclassifier.fit(x_train, y_train)"
      ],
      "execution_count": 131,
      "outputs": [
        {
          "output_type": "execute_result",
          "data": {
            "text/plain": [
              "KNeighborsClassifier(algorithm='auto', leaf_size=30, metric='minkowski',\n",
              "                     metric_params=None, n_jobs=None, n_neighbors=7, p=2,\n",
              "                     weights='uniform')"
            ]
          },
          "metadata": {
            "tags": []
          },
          "execution_count": 131
        }
      ]
    },
    {
      "cell_type": "code",
      "metadata": {
        "id": "9b1IXE2Zcb62"
      },
      "source": [
        "y_pred = KNNclassifier.predict(x_test)"
      ],
      "execution_count": 132,
      "outputs": []
    },
    {
      "cell_type": "code",
      "metadata": {
        "id": "17zIkviucfn2",
        "outputId": "227ad38e-618d-46ac-830b-0c49b6137dd0",
        "colab": {
          "base_uri": "https://localhost:8080/",
          "height": 217
        }
      },
      "source": [
        "print(confusion_matrix(y_test, y_pred))\n",
        "print(classification_report(y_test, y_pred))\n",
        "print('KNN acc:',accuracy_score(y_test, y_pred))"
      ],
      "execution_count": 133,
      "outputs": [
        {
          "output_type": "stream",
          "text": [
            "[[11  8]\n",
            " [ 4 33]]\n",
            "              precision    recall  f1-score   support\n",
            "\n",
            "         0.0       0.73      0.58      0.65        19\n",
            "         1.0       0.80      0.89      0.85        37\n",
            "\n",
            "    accuracy                           0.79        56\n",
            "   macro avg       0.77      0.74      0.75        56\n",
            "weighted avg       0.78      0.79      0.78        56\n",
            "\n",
            "KNN acc: 0.7857142857142857\n"
          ],
          "name": "stdout"
        }
      ]
    },
    {
      "cell_type": "code",
      "metadata": {
        "id": "jYuZ1c8YcljC",
        "cellView": "form"
      },
      "source": [
        "#@title CLASSIFIER 2:DECISION TREE\n",
        "\n",
        "\n",
        "\n"
      ],
      "execution_count": 117,
      "outputs": []
    },
    {
      "cell_type": "code",
      "metadata": {
        "id": "t8dtVcP3d7VR"
      },
      "source": [
        "#from sklearn.model_selection import train_test_split\n",
        "#x_train, x_test, y_train, y_test = train_test_split(x, y, test_size=0.2)"
      ],
      "execution_count": 107,
      "outputs": []
    },
    {
      "cell_type": "code",
      "metadata": {
        "id": "kUrfCdeUiUrC",
        "outputId": "c225f583-f19c-4cbb-e96b-dba3f6c4dc55",
        "colab": {
          "base_uri": "https://localhost:8080/",
          "height": 117
        }
      },
      "source": [
        "from sklearn.tree import DecisionTreeClassifier\n",
        "Decclassifier = DecisionTreeClassifier(criterion=\"entropy\", max_depth = 2)\n",
        "Decclassifier "
      ],
      "execution_count": 134,
      "outputs": [
        {
          "output_type": "execute_result",
          "data": {
            "text/plain": [
              "DecisionTreeClassifier(ccp_alpha=0.0, class_weight=None, criterion='entropy',\n",
              "                       max_depth=2, max_features=None, max_leaf_nodes=None,\n",
              "                       min_impurity_decrease=0.0, min_impurity_split=None,\n",
              "                       min_samples_leaf=1, min_samples_split=2,\n",
              "                       min_weight_fraction_leaf=0.0, presort='deprecated',\n",
              "                       random_state=None, splitter='best')"
            ]
          },
          "metadata": {
            "tags": []
          },
          "execution_count": 134
        }
      ]
    },
    {
      "cell_type": "code",
      "metadata": {
        "id": "LceNNtJkiZl-"
      },
      "source": [
        "\n",
        "Decclassifier.fit(x_train,y_train)\n",
        "y_pred = Decclassifier.predict(x_test)"
      ],
      "execution_count": 135,
      "outputs": []
    },
    {
      "cell_type": "code",
      "metadata": {
        "id": "BY2m0dkYicFm",
        "outputId": "9241050f-8e91-486a-b93d-19b8aed9f308",
        "colab": {
          "base_uri": "https://localhost:8080/",
          "height": 33
        }
      },
      "source": [
        "from sklearn import metrics\n",
        "print(\"DecisionTrees's Accuracy: \", metrics.accuracy_score(y_test, y_pred))"
      ],
      "execution_count": 137,
      "outputs": [
        {
          "output_type": "stream",
          "text": [
            "DecisionTrees's Accuracy:  0.7142857142857143\n"
          ],
          "name": "stdout"
        }
      ]
    },
    {
      "cell_type": "code",
      "metadata": {
        "id": "0fVngJNsioXI"
      },
      "source": [
        ""
      ],
      "execution_count": null,
      "outputs": []
    }
  ]
}