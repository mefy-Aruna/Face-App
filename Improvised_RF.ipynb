{
  "nbformat": 4,
  "nbformat_minor": 0,
  "metadata": {
    "colab": {
      "name": "Improvised RF.ipynb",
      "provenance": [],
      "collapsed_sections": [],
      "authorship_tag": "ABX9TyPM43URFYEzqMs7sSv0R+s4",
      "include_colab_link": true
    },
    "kernelspec": {
      "name": "python3",
      "display_name": "Python 3"
    }
  },
  "cells": [
    {
      "cell_type": "markdown",
      "metadata": {
        "id": "view-in-github",
        "colab_type": "text"
      },
      "source": [
        "<a href=\"https://colab.research.google.com/github/mefy-Aruna/Face-App/blob/master/Improvised_RF.ipynb\" target=\"_parent\"><img src=\"https://colab.research.google.com/assets/colab-badge.svg\" alt=\"Open In Colab\"/></a>"
      ]
    },
    {
      "cell_type": "code",
      "metadata": {
        "id": "c0d1BQY9Jfrs"
      },
      "source": [
        "import pandas as pd\n",
        "# import libraries\n",
        "\n",
        "import numpy as np\n",
        "import pandas as pd\n",
        "import matplotlib.pyplot as plt\n",
        "import seaborn as sns\n",
        "df = pd.read_csv(r'dataset.csv')\n"
      ],
      "execution_count": 114,
      "outputs": []
    },
    {
      "cell_type": "code",
      "metadata": {
        "id": "2jLsjf_nJrDS"
      },
      "source": [
        "x = df.iloc[:, 0:14].values\n",
        "y = df.iloc[:, 14].values"
      ],
      "execution_count": 115,
      "outputs": []
    },
    {
      "cell_type": "code",
      "metadata": {
        "id": "ePGthJ4PJuuX"
      },
      "source": [
        "# Train Test Split\n",
        "from sklearn.metrics import classification_report, confusion_matrix, accuracy_score\n",
        "from sklearn.model_selection import train_test_split\n",
        "x_train, x_test, y_train, y_test = train_test_split(x, y, test_size=0.20)\n",
        "# Preprocessing\n",
        "from sklearn.preprocessing import StandardScaler\n",
        "scaler = StandardScaler()\n",
        "scaler.fit(x_train)\n",
        "\n",
        "x_train = scaler.transform(x_train)\n",
        "x_test = scaler.transform(x_test)\n",
        "\n"
      ],
      "execution_count": 116,
      "outputs": []
    },
    {
      "cell_type": "code",
      "metadata": {
        "id": "lzQ-dDefJwxZ",
        "outputId": "56e1700b-2249-4dcf-973b-0ded3b748f8c",
        "colab": {
          "base_uri": "https://localhost:8080/",
          "height": 224
        }
      },
      "source": [
        "from sklearn.ensemble import RandomForestClassifier\n",
        "RFclassifier = RandomForestClassifier(n_estimators = 200,random_state=0,warm_start=True)\n",
        "RFclassifier.fit(x_train, y_train)\n",
        "y_pred = RFclassifier.predict(x_test)\n",
        "print(confusion_matrix(y_test, y_pred))\n",
        "print(classification_report(y_test, y_pred))\n",
        "print(accuracy_score(y_test, y_pred)) \n"
      ],
      "execution_count": 117,
      "outputs": [
        {
          "output_type": "stream",
          "text": [
            "[[20  5]\n",
            " [ 1 30]]\n",
            "              precision    recall  f1-score   support\n",
            "\n",
            "           0       0.95      0.80      0.87        25\n",
            "           1       0.86      0.97      0.91        31\n",
            "\n",
            "    accuracy                           0.89        56\n",
            "   macro avg       0.90      0.88      0.89        56\n",
            "weighted avg       0.90      0.89      0.89        56\n",
            "\n",
            "0.8928571428571429\n"
          ],
          "name": "stdout"
        }
      ]
    },
    {
      "cell_type": "code",
      "metadata": {
        "id": "DBpxu8x4KDoG"
      },
      "source": [
        "labelProb =RFclassifier.predict_proba(x_test)\n",
        "\n"
      ],
      "execution_count": 118,
      "outputs": []
    },
    {
      "cell_type": "code",
      "metadata": {
        "id": "sSs58nvEQzbd",
        "outputId": "d8ae48f0-c612-4ca3-eeae-92817bc875ba",
        "colab": {
          "base_uri": "https://localhost:8080/",
          "height": 34
        }
      },
      "source": [
        "labelProb.size"
      ],
      "execution_count": 95,
      "outputs": [
        {
          "output_type": "execute_result",
          "data": {
            "text/plain": [
              "112"
            ]
          },
          "metadata": {
            "tags": []
          },
          "execution_count": 95
        }
      ]
    },
    {
      "cell_type": "code",
      "metadata": {
        "id": "92UHmTN7LXzr"
      },
      "source": [
        "alpha=0.5\n",
        "beta=0.5\n",
        "finalProb=[]\n"
      ],
      "execution_count": 119,
      "outputs": []
    },
    {
      "cell_type": "code",
      "metadata": {
        "id": "h61ZpP1QQxwa"
      },
      "source": [
        ""
      ],
      "execution_count": null,
      "outputs": []
    },
    {
      "cell_type": "code",
      "metadata": {
        "id": "9JDTd_B3LgZu",
        "outputId": "5012ad93-00ab-4854-cf19-810f65578cf6",
        "colab": {
          "base_uri": "https://localhost:8080/",
          "height": 1000
        }
      },
      "source": [
        "for i in labelProb:\n",
        " # print(\"list: i is:\",i)\n",
        "  if i[1] > alpha and i[1]> i[0]:\n",
        "   # print(\"positive\")\n",
        "    add=1\n",
        "    finalProb.append(add)\n",
        "  elif i[0]>beta and i[0]>i[1]:\n",
        "   # print(\"negative\")\n",
        "    add=0\n",
        "    finalProb.append(add)\n",
        "  else:\n",
        "    print(\"abstention incurred\")\n",
        "\n",
        "  \n"
      ],
      "execution_count": 94,
      "outputs": [
        {
          "output_type": "stream",
          "text": [
            "list: i is: [0.44 0.56]\n",
            "positive\n",
            "list: i is: [0.25 0.75]\n",
            "positive\n",
            "list: i is: [0.08 0.92]\n",
            "positive\n",
            "list: i is: [0.37 0.63]\n",
            "positive\n",
            "list: i is: [0.885 0.115]\n",
            "negative\n",
            "list: i is: [0.83 0.17]\n",
            "negative\n",
            "list: i is: [0.31 0.69]\n",
            "positive\n",
            "list: i is: [0.18 0.82]\n",
            "positive\n",
            "list: i is: [0.475 0.525]\n",
            "positive\n",
            "list: i is: [0.02 0.98]\n",
            "positive\n",
            "list: i is: [0.725 0.275]\n",
            "negative\n",
            "list: i is: [0.635 0.365]\n",
            "negative\n",
            "list: i is: [0.79 0.21]\n",
            "negative\n",
            "list: i is: [0.835 0.165]\n",
            "negative\n",
            "list: i is: [0.03 0.97]\n",
            "positive\n",
            "list: i is: [0.075 0.925]\n",
            "positive\n",
            "list: i is: [0.055 0.945]\n",
            "positive\n",
            "list: i is: [0.08 0.92]\n",
            "positive\n",
            "list: i is: [0.08 0.92]\n",
            "positive\n",
            "list: i is: [0.05 0.95]\n",
            "positive\n",
            "list: i is: [0.025 0.975]\n",
            "positive\n",
            "list: i is: [0.24 0.76]\n",
            "positive\n",
            "list: i is: [0.78 0.22]\n",
            "negative\n",
            "list: i is: [0.52 0.48]\n",
            "negative\n",
            "list: i is: [0.525 0.475]\n",
            "negative\n",
            "list: i is: [0.055 0.945]\n",
            "positive\n",
            "list: i is: [0.115 0.885]\n",
            "positive\n",
            "list: i is: [0.135 0.865]\n",
            "positive\n",
            "list: i is: [0.085 0.915]\n",
            "positive\n",
            "list: i is: [0.085 0.915]\n",
            "positive\n",
            "list: i is: [0.23 0.77]\n",
            "positive\n",
            "list: i is: [0.625 0.375]\n",
            "negative\n",
            "list: i is: [0.6 0.4]\n",
            "negative\n",
            "list: i is: [0.895 0.105]\n",
            "negative\n",
            "list: i is: [0.87 0.13]\n",
            "negative\n",
            "list: i is: [0.085 0.915]\n",
            "positive\n",
            "list: i is: [0.355 0.645]\n",
            "positive\n",
            "list: i is: [0.47 0.53]\n",
            "positive\n",
            "list: i is: [0.195 0.805]\n",
            "positive\n",
            "list: i is: [0.225 0.775]\n",
            "positive\n",
            "list: i is: [0.75 0.25]\n",
            "negative\n",
            "list: i is: [0.095 0.905]\n",
            "positive\n",
            "list: i is: [0.68 0.32]\n",
            "negative\n",
            "list: i is: [0.26 0.74]\n",
            "positive\n",
            "list: i is: [0.785 0.215]\n",
            "negative\n",
            "list: i is: [0.265 0.735]\n",
            "positive\n",
            "list: i is: [0.235 0.765]\n",
            "positive\n",
            "list: i is: [0.08 0.92]\n",
            "positive\n",
            "list: i is: [0.25 0.75]\n",
            "positive\n",
            "list: i is: [0.88 0.12]\n",
            "negative\n",
            "list: i is: [0.23 0.77]\n",
            "positive\n",
            "list: i is: [0.135 0.865]\n",
            "positive\n",
            "list: i is: [0.075 0.925]\n",
            "positive\n",
            "list: i is: [0.17 0.83]\n",
            "positive\n",
            "list: i is: [0.025 0.975]\n",
            "positive\n",
            "list: i is: [0.03 0.97]\n",
            "positive\n"
          ],
          "name": "stdout"
        }
      ]
    },
    {
      "cell_type": "code",
      "metadata": {
        "id": "Vo1y7iePRAMq"
      },
      "source": [
        ""
      ],
      "execution_count": 96,
      "outputs": []
    },
    {
      "cell_type": "code",
      "metadata": {
        "id": "bqXPRHzAMvMY"
      },
      "source": [
        ""
      ],
      "execution_count": 97,
      "outputs": []
    },
    {
      "cell_type": "code",
      "metadata": {
        "id": "HTXazrzdPNAZ",
        "outputId": "83c36ad5-c29d-45a2-f2b3-2070145b8128",
        "colab": {
          "base_uri": "https://localhost:8080/",
          "height": 69
        }
      },
      "source": [
        "y_test"
      ],
      "execution_count": 87,
      "outputs": [
        {
          "output_type": "execute_result",
          "data": {
            "text/plain": [
              "array([1, 1, 1, 1, 0, 0, 1, 1, 0, 0, 0, 1, 0, 0, 1, 1, 1, 1, 1, 1, 1, 1,\n",
              "       0, 0, 1, 1, 1, 1, 1, 1, 1, 1, 1, 0, 0, 1, 1, 0, 1, 0, 1, 1, 1, 1,\n",
              "       0, 0, 1, 1, 0, 0, 1, 1, 1, 1, 1, 1])"
            ]
          },
          "metadata": {
            "tags": []
          },
          "execution_count": 87
        }
      ]
    },
    {
      "cell_type": "code",
      "metadata": {
        "id": "8t--nZpVPmZG"
      },
      "source": [
        "finalLabelProb=np.asarray(finalProb)"
      ],
      "execution_count": 90,
      "outputs": []
    },
    {
      "cell_type": "code",
      "metadata": {
        "id": "kp0Cs-tRPooO",
        "outputId": "e609f325-fb83-4ff0-84f6-e874d0358b86",
        "colab": {
          "base_uri": "https://localhost:8080/",
          "height": 34
        }
      },
      "source": [
        "finalLabelProb.size"
      ],
      "execution_count": 97,
      "outputs": [
        {
          "output_type": "execute_result",
          "data": {
            "text/plain": [
              "112"
            ]
          },
          "metadata": {
            "tags": []
          },
          "execution_count": 97
        }
      ]
    },
    {
      "cell_type": "code",
      "metadata": {
        "id": "fJfN5I2lQAmx",
        "outputId": "745b5b6c-20b7-46ea-c686-5818be5afe53",
        "colab": {
          "base_uri": "https://localhost:8080/",
          "height": 224
        }
      },
      "source": [
        "print(confusion_matrix(y_test, y_pred))\n",
        "print(classification_report(y_test, y_pred))\n",
        "print(accuracy_score(y_test, finalProb)) "
      ],
      "execution_count": 100,
      "outputs": [
        {
          "output_type": "stream",
          "text": [
            "[[11  6]\n",
            " [ 6 33]]\n",
            "              precision    recall  f1-score   support\n",
            "\n",
            "           0       0.65      0.65      0.65        17\n",
            "           1       0.85      0.85      0.85        39\n",
            "\n",
            "    accuracy                           0.79        56\n",
            "   macro avg       0.75      0.75      0.75        56\n",
            "weighted avg       0.79      0.79      0.79        56\n",
            "\n",
            "0.7857142857142857\n"
          ],
          "name": "stdout"
        }
      ]
    },
    {
      "cell_type": "code",
      "metadata": {
        "id": "YGwjcO0_RULu"
      },
      "source": [
        "#ROC curves\n",
        "from sklearn.metrics import roc_curve\n",
        "\n",
        "fpr, tpr, thresholds = roc_curve(y_test, finalProb)\n",
        "sensitivity = tpr\n",
        "specificity= 1-fpr"
      ],
      "execution_count": 102,
      "outputs": []
    },
    {
      "cell_type": "code",
      "metadata": {
        "id": "qaYyUclpU4_i",
        "outputId": "4d227340-28c1-4937-de4f-1728e85e7767",
        "colab": {
          "base_uri": "https://localhost:8080/",
          "height": 279
        }
      },
      "source": [
        "# plot the roc curve for the model\n",
        "from matplotlib import pyplot\n",
        "\n",
        "pyplot.plot([0,1], [0,1], linestyle='--', label='No Skill')\n",
        "pyplot.plot(fpr, tpr, marker='.', label='Random Forest')\n",
        "# axis labels\n",
        "pyplot.xlabel('False Positive Rate')\n",
        "pyplot.ylabel('True Positive Rate')\n",
        "pyplot.legend()\n",
        "# show the plot\n",
        "pyplot.show()"
      ],
      "execution_count": 103,
      "outputs": [
        {
          "output_type": "display_data",
          "data": {
            "image/png": "[encoded data removed]",
            "text/plain": [
              "<Figure size 432x288 with 1 Axes>"
            ]
          },
          "metadata": {
            "tags": [],
            "needs_background": "light"
          }
        }
      ]
    },
    {
      "cell_type": "code",
      "metadata": {
        "id": "jppUL-lMVR90"
      },
      "source": [
        "# calculate the g-mean for each threshold\n",
        "gmeans = np.sqrt(tpr * (1-fpr))"
      ],
      "execution_count": 105,
      "outputs": []
    },
    {
      "cell_type": "code",
      "metadata": {
        "id": "VVksEBvwVZn7",
        "outputId": "cfca1eff-d71b-42d7-97d5-ab5539bfa599",
        "colab": {
          "base_uri": "https://localhost:8080/",
          "height": 34
        }
      },
      "source": [
        "ix = np.argmax(gmeans)\n",
        "print('Best Threshold=%f, G-Mean=%.3f' % (thresholds[ix], gmeans[ix]))"
      ],
      "execution_count": 107,
      "outputs": [
        {
          "output_type": "stream",
          "text": [
            "Best Threshold=1.000000, G-Mean=0.740\n"
          ],
          "name": "stdout"
        }
      ]
    },
    {
      "cell_type": "code",
      "metadata": {
        "id": "BaQR_xk5VpcU",
        "outputId": "8b04e239-82b8-4958-a34d-25c812a7bdcb",
        "colab": {
          "base_uri": "https://localhost:8080/",
          "height": 279
        }
      },
      "source": [
        "# plot the roc curve for the model\n",
        "pyplot.plot([0,1], [0,1], linestyle='--', label='No Skill')\n",
        "pyplot.plot(fpr, tpr, marker='.', label='Logistic')\n",
        "pyplot.scatter(fpr[ix], tpr[ix], marker='o', color='black', label='Best')\n",
        "# axis labels\n",
        "pyplot.xlabel('False Positive Rate')\n",
        "pyplot.ylabel('True Positive Rate')\n",
        "pyplot.legend()\n",
        "# show the plot\n",
        "pyplot.show()"
      ],
      "execution_count": 108,
      "outputs": [
        {
          "output_type": "display_data",
          "data": {
            "image/png": "[encoded data removed]",
            "text/plain": [
              "<Figure size 432x288 with 1 Axes>"
            ]
          },
          "metadata": {
            "tags": [],
            "needs_background": "light"
          }
        }
      ]
    },
    {
      "cell_type": "code",
      "metadata": {
        "id": "sz8bHnmNVzEk",
        "outputId": "1e03dd91-1942-4beb-e3c7-8462745da891",
        "colab": {
          "base_uri": "https://localhost:8080/",
          "height": 34
        }
      },
      "source": [
        "\n",
        "# calculate roc curves\n",
        "fpr, tpr, thresholds = roc_curve(y_test, finalProb)\n",
        "# get the best threshold\n",
        "J = tpr - fpr\n",
        "ix = np.argmax(J)\n",
        "best_thresh = thresholds[ix]\n",
        "print('Best Threshold=%f' % (best_thresh))"
      ],
      "execution_count": 110,
      "outputs": [
        {
          "output_type": "stream",
          "text": [
            "Best Threshold=1.000000\n"
          ],
          "name": "stdout"
        }
      ]
    },
    {
      "cell_type": "code",
      "metadata": {
        "id": "qeh1jtc-WNpv",
        "outputId": "e2793644-d47d-4430-8e4d-083fd5a53c84",
        "colab": {
          "base_uri": "https://localhost:8080/",
          "height": 296
        }
      },
      "source": [
        "# calculate roc curves\n",
        "from sklearn.metrics import precision_recall_curve\n",
        "\n",
        "precision, recall, thresholds = precision_recall_curve(y_test, finalProb)\n",
        "# convert to f score\n",
        "fscore = (2 * precision * recall) / (precision + recall)\n",
        "# locate the index of the largest f score\n",
        "ix = np.argmax(fscore)\n",
        "print('Best Threshold=%f, F-Score=%.3f' % (thresholds[ix], fscore[ix]))\n",
        "# plot the roc curve for the model\n",
        "no_skill = len(y_test[y_test==1]) / len(y_test)\n",
        "pyplot.plot([0,1], [no_skill,no_skill], linestyle='--', label='No Skill')\n",
        "pyplot.plot(recall, precision, marker='.', label='Logistic')\n",
        "pyplot.scatter(recall[ix], precision[ix], marker='o', color='black', label='Best')\n",
        "# axis labels\n",
        "pyplot.xlabel('Recall')\n",
        "pyplot.ylabel('Precision')\n",
        "pyplot.legend()\n",
        "# show the plot\n",
        "pyplot.show()"
      ],
      "execution_count": 112,
      "outputs": [
        {
          "output_type": "stream",
          "text": [
            "Best Threshold=1.000000, F-Score=0.846\n"
          ],
          "name": "stdout"
        },
        {
          "output_type": "display_data",
          "data": {
            "image/png": "[encoded data removed]",
            "text/plain": [
              "<Figure size 432x288 with 1 Axes>"
            ]
          },
          "metadata": {
            "tags": [],
            "needs_background": "light"
          }
        }
      ]
    },
    {
      "cell_type": "code",
      "metadata": {
        "id": "CmWGA_AEWojs"
      },
      "source": [
        ""
      ],
      "execution_count": null,
      "outputs": []
    }
  ]
}