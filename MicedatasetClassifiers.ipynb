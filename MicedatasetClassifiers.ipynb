{
  "nbformat": 4,
  "nbformat_minor": 0,
  "metadata": {
    "colab": {
      "name": "MicedatasetClassifiers.ipynb",
      "provenance": [],
      "collapsed_sections": [],
      "authorship_tag": "ABX9TyP0nosxc6Gm+2n8g6PH1ns4",
      "include_colab_link": true
    },
    "kernelspec": {
      "name": "python3",
      "display_name": "Python 3"
    }
  },
  "cells": [
    {
      "cell_type": "markdown",
      "metadata": {
        "id": "view-in-github",
        "colab_type": "text"
      },
      "source": [
        "<a href=\"https://colab.research.google.com/github/mefy-Aruna/Face-App/blob/master/MicedatasetClassifiers.ipynb\" target=\"_parent\"><img src=\"https://colab.research.google.com/assets/colab-badge.svg\" alt=\"Open In Colab\"/></a>"
      ]
    },
    {
      "cell_type": "code",
      "metadata": {
        "id": "EXNjYRjQZ7b3",
        "outputId": "57f9f25e-fcee-4554-a3e0-26488cba513d",
        "colab": {
          "base_uri": "https://localhost:8080/",
          "height": 70
        }
      },
      "source": [
        "import pandas as pd\n",
        "# import libraries\n",
        "\n",
        "import numpy as np\n",
        "import pandas as pd\n",
        "import matplotlib.pyplot as plt\n",
        "import seaborn as sns"
      ],
      "execution_count": 1,
      "outputs": [
        {
          "output_type": "stream",
          "text": [
            "/usr/local/lib/python3.6/dist-packages/statsmodels/tools/_testing.py:19: FutureWarning: pandas.util.testing is deprecated. Use the functions in the public API at pandas.testing instead.\n",
            "  import pandas.util.testing as tm\n"
          ],
          "name": "stderr"
        }
      ]
    },
    {
      "cell_type": "code",
      "metadata": {
        "id": "8uNVAVHyacdZ",
        "outputId": "df9b0149-b3ea-4e94-e927-ef335267a30a",
        "colab": {
          "base_uri": "https://localhost:8080/",
          "height": 404
        }
      },
      "source": [
        "df = pd.read_csv(r'MICE_dataset.csv')\n",
        "df"
      ],
      "execution_count": 117,
      "outputs": [
        {
          "output_type": "execute_result",
          "data": {
            "text/html": [
              "<div>\n",
              "<style scoped>\n",
              "    .dataframe tbody tr th:only-of-type {\n",
              "        vertical-align: middle;\n",
              "    }\n",
              "\n",
              "    .dataframe tbody tr th {\n",
              "        vertical-align: top;\n",
              "    }\n",
              "\n",
              "    .dataframe thead th {\n",
              "        text-align: right;\n",
              "    }\n",
              "</style>\n",
              "<table border=\"1\" class=\"dataframe\">\n",
              "  <thead>\n",
              "    <tr style=\"text-align: right;\">\n",
              "      <th></th>\n",
              "      <th>Unnamed: 0</th>\n",
              "      <th>0</th>\n",
              "      <th>1</th>\n",
              "      <th>2</th>\n",
              "      <th>3</th>\n",
              "      <th>4</th>\n",
              "      <th>5</th>\n",
              "      <th>6</th>\n",
              "      <th>7</th>\n",
              "      <th>8</th>\n",
              "      <th>9</th>\n",
              "      <th>10</th>\n",
              "      <th>11</th>\n",
              "      <th>12</th>\n",
              "      <th>13</th>\n",
              "      <th>14</th>\n",
              "      <th>15</th>\n",
              "    </tr>\n",
              "  </thead>\n",
              "  <tbody>\n",
              "    <tr>\n",
              "      <th>0</th>\n",
              "      <td>0</td>\n",
              "      <td>0.0</td>\n",
              "      <td>56.0</td>\n",
              "      <td>3.5</td>\n",
              "      <td>151.0</td>\n",
              "      <td>2.100000</td>\n",
              "      <td>0.900000</td>\n",
              "      <td>0.400000</td>\n",
              "      <td>0.000000</td>\n",
              "      <td>0.000000</td>\n",
              "      <td>16.500000</td>\n",
              "      <td>25.000000</td>\n",
              "      <td>14.000000</td>\n",
              "      <td>50.000000</td>\n",
              "      <td>17.000000</td>\n",
              "      <td>207.000000</td>\n",
              "      <td>1.0</td>\n",
              "    </tr>\n",
              "    <tr>\n",
              "      <th>1</th>\n",
              "      <td>1</td>\n",
              "      <td>0.0</td>\n",
              "      <td>72.0</td>\n",
              "      <td>4.6</td>\n",
              "      <td>206.0</td>\n",
              "      <td>3.740225</td>\n",
              "      <td>0.614063</td>\n",
              "      <td>0.347756</td>\n",
              "      <td>0.011905</td>\n",
              "      <td>-0.012027</td>\n",
              "      <td>193.700000</td>\n",
              "      <td>31.000000</td>\n",
              "      <td>22.000000</td>\n",
              "      <td>63.527102</td>\n",
              "      <td>50.323952</td>\n",
              "      <td>401.967626</td>\n",
              "      <td>1.0</td>\n",
              "    </tr>\n",
              "    <tr>\n",
              "      <th>2</th>\n",
              "      <td>2</td>\n",
              "      <td>0.0</td>\n",
              "      <td>72.0</td>\n",
              "      <td>16.5</td>\n",
              "      <td>316.0</td>\n",
              "      <td>14.000000</td>\n",
              "      <td>1.200000</td>\n",
              "      <td>0.300000</td>\n",
              "      <td>0.000000</td>\n",
              "      <td>0.000000</td>\n",
              "      <td>318.700000</td>\n",
              "      <td>96.000000</td>\n",
              "      <td>33.000000</td>\n",
              "      <td>80.000000</td>\n",
              "      <td>42.000000</td>\n",
              "      <td>651.000000</td>\n",
              "      <td>1.0</td>\n",
              "    </tr>\n",
              "    <tr>\n",
              "      <th>3</th>\n",
              "      <td>3</td>\n",
              "      <td>0.0</td>\n",
              "      <td>77.0</td>\n",
              "      <td>4.9</td>\n",
              "      <td>198.0</td>\n",
              "      <td>3.931872</td>\n",
              "      <td>0.730178</td>\n",
              "      <td>0.416747</td>\n",
              "      <td>0.011474</td>\n",
              "      <td>-0.003764</td>\n",
              "      <td>103.627803</td>\n",
              "      <td>55.481279</td>\n",
              "      <td>49.972992</td>\n",
              "      <td>68.970952</td>\n",
              "      <td>90.044752</td>\n",
              "      <td>372.035248</td>\n",
              "      <td>1.0</td>\n",
              "    </tr>\n",
              "    <tr>\n",
              "      <th>4</th>\n",
              "      <td>4</td>\n",
              "      <td>0.0</td>\n",
              "      <td>77.0</td>\n",
              "      <td>3.0</td>\n",
              "      <td>162.0</td>\n",
              "      <td>2.000000</td>\n",
              "      <td>0.400000</td>\n",
              "      <td>0.400000</td>\n",
              "      <td>0.100000</td>\n",
              "      <td>-0.009517</td>\n",
              "      <td>65.670308</td>\n",
              "      <td>21.000000</td>\n",
              "      <td>10.000000</td>\n",
              "      <td>89.363302</td>\n",
              "      <td>54.137925</td>\n",
              "      <td>220.000000</td>\n",
              "      <td>1.0</td>\n",
              "    </tr>\n",
              "    <tr>\n",
              "      <th>...</th>\n",
              "      <td>...</td>\n",
              "      <td>...</td>\n",
              "      <td>...</td>\n",
              "      <td>...</td>\n",
              "      <td>...</td>\n",
              "      <td>...</td>\n",
              "      <td>...</td>\n",
              "      <td>...</td>\n",
              "      <td>...</td>\n",
              "      <td>...</td>\n",
              "      <td>...</td>\n",
              "      <td>...</td>\n",
              "      <td>...</td>\n",
              "      <td>...</td>\n",
              "      <td>...</td>\n",
              "      <td>...</td>\n",
              "      <td>...</td>\n",
              "    </tr>\n",
              "    <tr>\n",
              "      <th>273</th>\n",
              "      <td>273</td>\n",
              "      <td>1.0</td>\n",
              "      <td>40.0</td>\n",
              "      <td>5.6</td>\n",
              "      <td>270.0</td>\n",
              "      <td>2.765579</td>\n",
              "      <td>1.877010</td>\n",
              "      <td>0.628129</td>\n",
              "      <td>0.138745</td>\n",
              "      <td>0.015581</td>\n",
              "      <td>16.700000</td>\n",
              "      <td>22.000000</td>\n",
              "      <td>29.000000</td>\n",
              "      <td>78.000000</td>\n",
              "      <td>20.000000</td>\n",
              "      <td>237.294739</td>\n",
              "      <td>0.0</td>\n",
              "    </tr>\n",
              "    <tr>\n",
              "      <th>274</th>\n",
              "      <td>274</td>\n",
              "      <td>0.0</td>\n",
              "      <td>26.0</td>\n",
              "      <td>4.7</td>\n",
              "      <td>44.0</td>\n",
              "      <td>2.256194</td>\n",
              "      <td>1.692185</td>\n",
              "      <td>0.454355</td>\n",
              "      <td>0.054986</td>\n",
              "      <td>-0.008536</td>\n",
              "      <td>47.500000</td>\n",
              "      <td>30.000000</td>\n",
              "      <td>44.000000</td>\n",
              "      <td>110.000000</td>\n",
              "      <td>93.000000</td>\n",
              "      <td>175.000000</td>\n",
              "      <td>0.0</td>\n",
              "    </tr>\n",
              "    <tr>\n",
              "      <th>275</th>\n",
              "      <td>275</td>\n",
              "      <td>1.0</td>\n",
              "      <td>44.0</td>\n",
              "      <td>15.7</td>\n",
              "      <td>356.0</td>\n",
              "      <td>11.695025</td>\n",
              "      <td>2.354826</td>\n",
              "      <td>1.213300</td>\n",
              "      <td>0.174192</td>\n",
              "      <td>0.061631</td>\n",
              "      <td>2.400000</td>\n",
              "      <td>31.000000</td>\n",
              "      <td>17.000000</td>\n",
              "      <td>109.003091</td>\n",
              "      <td>55.464329</td>\n",
              "      <td>272.000000</td>\n",
              "      <td>0.0</td>\n",
              "    </tr>\n",
              "    <tr>\n",
              "      <th>276</th>\n",
              "      <td>276</td>\n",
              "      <td>1.0</td>\n",
              "      <td>41.0</td>\n",
              "      <td>12.0</td>\n",
              "      <td>321.0</td>\n",
              "      <td>6.700000</td>\n",
              "      <td>2.300000</td>\n",
              "      <td>1.600000</td>\n",
              "      <td>1.300000</td>\n",
              "      <td>0.100000</td>\n",
              "      <td>41.200000</td>\n",
              "      <td>16.000000</td>\n",
              "      <td>11.000000</td>\n",
              "      <td>201.000000</td>\n",
              "      <td>14.000000</td>\n",
              "      <td>266.000000</td>\n",
              "      <td>0.0</td>\n",
              "    </tr>\n",
              "    <tr>\n",
              "      <th>277</th>\n",
              "      <td>277</td>\n",
              "      <td>0.0</td>\n",
              "      <td>53.0</td>\n",
              "      <td>17.9</td>\n",
              "      <td>272.0</td>\n",
              "      <td>14.100000</td>\n",
              "      <td>2.100000</td>\n",
              "      <td>1.500000</td>\n",
              "      <td>0.200000</td>\n",
              "      <td>0.100000</td>\n",
              "      <td>123.900000</td>\n",
              "      <td>13.000000</td>\n",
              "      <td>10.000000</td>\n",
              "      <td>50.263803</td>\n",
              "      <td>-21.618106</td>\n",
              "      <td>258.000000</td>\n",
              "      <td>0.0</td>\n",
              "    </tr>\n",
              "  </tbody>\n",
              "</table>\n",
              "<p>278 rows × 17 columns</p>\n",
              "</div>"
            ],
            "text/plain": [
              "     Unnamed: 0    0     1     2  ...          12         13          14   15\n",
              "0             0  0.0  56.0   3.5  ...   50.000000  17.000000  207.000000  1.0\n",
              "1             1  0.0  72.0   4.6  ...   63.527102  50.323952  401.967626  1.0\n",
              "2             2  0.0  72.0  16.5  ...   80.000000  42.000000  651.000000  1.0\n",
              "3             3  0.0  77.0   4.9  ...   68.970952  90.044752  372.035248  1.0\n",
              "4             4  0.0  77.0   3.0  ...   89.363302  54.137925  220.000000  1.0\n",
              "..          ...  ...   ...   ...  ...         ...        ...         ...  ...\n",
              "273         273  1.0  40.0   5.6  ...   78.000000  20.000000  237.294739  0.0\n",
              "274         274  0.0  26.0   4.7  ...  110.000000  93.000000  175.000000  0.0\n",
              "275         275  1.0  44.0  15.7  ...  109.003091  55.464329  272.000000  0.0\n",
              "276         276  1.0  41.0  12.0  ...  201.000000  14.000000  266.000000  0.0\n",
              "277         277  0.0  53.0  17.9  ...   50.263803 -21.618106  258.000000  0.0\n",
              "\n",
              "[278 rows x 17 columns]"
            ]
          },
          "metadata": {
            "tags": []
          },
          "execution_count": 117
        }
      ]
    },
    {
      "cell_type": "code",
      "metadata": {
        "id": "ggE8dRhw3YIF",
        "outputId": "b07d7259-53df-4a5c-d37a-83a58d0937a4",
        "colab": {
          "base_uri": "https://localhost:8080/",
          "height": 404
        }
      },
      "source": [
        "df"
      ],
      "execution_count": 118,
      "outputs": [
        {
          "output_type": "execute_result",
          "data": {
            "text/html": [
              "<div>\n",
              "<style scoped>\n",
              "    .dataframe tbody tr th:only-of-type {\n",
              "        vertical-align: middle;\n",
              "    }\n",
              "\n",
              "    .dataframe tbody tr th {\n",
              "        vertical-align: top;\n",
              "    }\n",
              "\n",
              "    .dataframe thead th {\n",
              "        text-align: right;\n",
              "    }\n",
              "</style>\n",
              "<table border=\"1\" class=\"dataframe\">\n",
              "  <thead>\n",
              "    <tr style=\"text-align: right;\">\n",
              "      <th></th>\n",
              "      <th>Unnamed: 0</th>\n",
              "      <th>0</th>\n",
              "      <th>1</th>\n",
              "      <th>2</th>\n",
              "      <th>3</th>\n",
              "      <th>4</th>\n",
              "      <th>5</th>\n",
              "      <th>6</th>\n",
              "      <th>7</th>\n",
              "      <th>8</th>\n",
              "      <th>9</th>\n",
              "      <th>10</th>\n",
              "      <th>11</th>\n",
              "      <th>12</th>\n",
              "      <th>13</th>\n",
              "      <th>14</th>\n",
              "      <th>15</th>\n",
              "    </tr>\n",
              "  </thead>\n",
              "  <tbody>\n",
              "    <tr>\n",
              "      <th>0</th>\n",
              "      <td>0</td>\n",
              "      <td>0.0</td>\n",
              "      <td>56.0</td>\n",
              "      <td>3.5</td>\n",
              "      <td>151.0</td>\n",
              "      <td>2.100000</td>\n",
              "      <td>0.900000</td>\n",
              "      <td>0.400000</td>\n",
              "      <td>0.000000</td>\n",
              "      <td>0.000000</td>\n",
              "      <td>16.500000</td>\n",
              "      <td>25.000000</td>\n",
              "      <td>14.000000</td>\n",
              "      <td>50.000000</td>\n",
              "      <td>17.000000</td>\n",
              "      <td>207.000000</td>\n",
              "      <td>1.0</td>\n",
              "    </tr>\n",
              "    <tr>\n",
              "      <th>1</th>\n",
              "      <td>1</td>\n",
              "      <td>0.0</td>\n",
              "      <td>72.0</td>\n",
              "      <td>4.6</td>\n",
              "      <td>206.0</td>\n",
              "      <td>3.740225</td>\n",
              "      <td>0.614063</td>\n",
              "      <td>0.347756</td>\n",
              "      <td>0.011905</td>\n",
              "      <td>-0.012027</td>\n",
              "      <td>193.700000</td>\n",
              "      <td>31.000000</td>\n",
              "      <td>22.000000</td>\n",
              "      <td>63.527102</td>\n",
              "      <td>50.323952</td>\n",
              "      <td>401.967626</td>\n",
              "      <td>1.0</td>\n",
              "    </tr>\n",
              "    <tr>\n",
              "      <th>2</th>\n",
              "      <td>2</td>\n",
              "      <td>0.0</td>\n",
              "      <td>72.0</td>\n",
              "      <td>16.5</td>\n",
              "      <td>316.0</td>\n",
              "      <td>14.000000</td>\n",
              "      <td>1.200000</td>\n",
              "      <td>0.300000</td>\n",
              "      <td>0.000000</td>\n",
              "      <td>0.000000</td>\n",
              "      <td>318.700000</td>\n",
              "      <td>96.000000</td>\n",
              "      <td>33.000000</td>\n",
              "      <td>80.000000</td>\n",
              "      <td>42.000000</td>\n",
              "      <td>651.000000</td>\n",
              "      <td>1.0</td>\n",
              "    </tr>\n",
              "    <tr>\n",
              "      <th>3</th>\n",
              "      <td>3</td>\n",
              "      <td>0.0</td>\n",
              "      <td>77.0</td>\n",
              "      <td>4.9</td>\n",
              "      <td>198.0</td>\n",
              "      <td>3.931872</td>\n",
              "      <td>0.730178</td>\n",
              "      <td>0.416747</td>\n",
              "      <td>0.011474</td>\n",
              "      <td>-0.003764</td>\n",
              "      <td>103.627803</td>\n",
              "      <td>55.481279</td>\n",
              "      <td>49.972992</td>\n",
              "      <td>68.970952</td>\n",
              "      <td>90.044752</td>\n",
              "      <td>372.035248</td>\n",
              "      <td>1.0</td>\n",
              "    </tr>\n",
              "    <tr>\n",
              "      <th>4</th>\n",
              "      <td>4</td>\n",
              "      <td>0.0</td>\n",
              "      <td>77.0</td>\n",
              "      <td>3.0</td>\n",
              "      <td>162.0</td>\n",
              "      <td>2.000000</td>\n",
              "      <td>0.400000</td>\n",
              "      <td>0.400000</td>\n",
              "      <td>0.100000</td>\n",
              "      <td>-0.009517</td>\n",
              "      <td>65.670308</td>\n",
              "      <td>21.000000</td>\n",
              "      <td>10.000000</td>\n",
              "      <td>89.363302</td>\n",
              "      <td>54.137925</td>\n",
              "      <td>220.000000</td>\n",
              "      <td>1.0</td>\n",
              "    </tr>\n",
              "    <tr>\n",
              "      <th>...</th>\n",
              "      <td>...</td>\n",
              "      <td>...</td>\n",
              "      <td>...</td>\n",
              "      <td>...</td>\n",
              "      <td>...</td>\n",
              "      <td>...</td>\n",
              "      <td>...</td>\n",
              "      <td>...</td>\n",
              "      <td>...</td>\n",
              "      <td>...</td>\n",
              "      <td>...</td>\n",
              "      <td>...</td>\n",
              "      <td>...</td>\n",
              "      <td>...</td>\n",
              "      <td>...</td>\n",
              "      <td>...</td>\n",
              "      <td>...</td>\n",
              "    </tr>\n",
              "    <tr>\n",
              "      <th>273</th>\n",
              "      <td>273</td>\n",
              "      <td>1.0</td>\n",
              "      <td>40.0</td>\n",
              "      <td>5.6</td>\n",
              "      <td>270.0</td>\n",
              "      <td>2.765579</td>\n",
              "      <td>1.877010</td>\n",
              "      <td>0.628129</td>\n",
              "      <td>0.138745</td>\n",
              "      <td>0.015581</td>\n",
              "      <td>16.700000</td>\n",
              "      <td>22.000000</td>\n",
              "      <td>29.000000</td>\n",
              "      <td>78.000000</td>\n",
              "      <td>20.000000</td>\n",
              "      <td>237.294739</td>\n",
              "      <td>0.0</td>\n",
              "    </tr>\n",
              "    <tr>\n",
              "      <th>274</th>\n",
              "      <td>274</td>\n",
              "      <td>0.0</td>\n",
              "      <td>26.0</td>\n",
              "      <td>4.7</td>\n",
              "      <td>44.0</td>\n",
              "      <td>2.256194</td>\n",
              "      <td>1.692185</td>\n",
              "      <td>0.454355</td>\n",
              "      <td>0.054986</td>\n",
              "      <td>-0.008536</td>\n",
              "      <td>47.500000</td>\n",
              "      <td>30.000000</td>\n",
              "      <td>44.000000</td>\n",
              "      <td>110.000000</td>\n",
              "      <td>93.000000</td>\n",
              "      <td>175.000000</td>\n",
              "      <td>0.0</td>\n",
              "    </tr>\n",
              "    <tr>\n",
              "      <th>275</th>\n",
              "      <td>275</td>\n",
              "      <td>1.0</td>\n",
              "      <td>44.0</td>\n",
              "      <td>15.7</td>\n",
              "      <td>356.0</td>\n",
              "      <td>11.695025</td>\n",
              "      <td>2.354826</td>\n",
              "      <td>1.213300</td>\n",
              "      <td>0.174192</td>\n",
              "      <td>0.061631</td>\n",
              "      <td>2.400000</td>\n",
              "      <td>31.000000</td>\n",
              "      <td>17.000000</td>\n",
              "      <td>109.003091</td>\n",
              "      <td>55.464329</td>\n",
              "      <td>272.000000</td>\n",
              "      <td>0.0</td>\n",
              "    </tr>\n",
              "    <tr>\n",
              "      <th>276</th>\n",
              "      <td>276</td>\n",
              "      <td>1.0</td>\n",
              "      <td>41.0</td>\n",
              "      <td>12.0</td>\n",
              "      <td>321.0</td>\n",
              "      <td>6.700000</td>\n",
              "      <td>2.300000</td>\n",
              "      <td>1.600000</td>\n",
              "      <td>1.300000</td>\n",
              "      <td>0.100000</td>\n",
              "      <td>41.200000</td>\n",
              "      <td>16.000000</td>\n",
              "      <td>11.000000</td>\n",
              "      <td>201.000000</td>\n",
              "      <td>14.000000</td>\n",
              "      <td>266.000000</td>\n",
              "      <td>0.0</td>\n",
              "    </tr>\n",
              "    <tr>\n",
              "      <th>277</th>\n",
              "      <td>277</td>\n",
              "      <td>0.0</td>\n",
              "      <td>53.0</td>\n",
              "      <td>17.9</td>\n",
              "      <td>272.0</td>\n",
              "      <td>14.100000</td>\n",
              "      <td>2.100000</td>\n",
              "      <td>1.500000</td>\n",
              "      <td>0.200000</td>\n",
              "      <td>0.100000</td>\n",
              "      <td>123.900000</td>\n",
              "      <td>13.000000</td>\n",
              "      <td>10.000000</td>\n",
              "      <td>50.263803</td>\n",
              "      <td>-21.618106</td>\n",
              "      <td>258.000000</td>\n",
              "      <td>0.0</td>\n",
              "    </tr>\n",
              "  </tbody>\n",
              "</table>\n",
              "<p>278 rows × 17 columns</p>\n",
              "</div>"
            ],
            "text/plain": [
              "     Unnamed: 0    0     1     2  ...          12         13          14   15\n",
              "0             0  0.0  56.0   3.5  ...   50.000000  17.000000  207.000000  1.0\n",
              "1             1  0.0  72.0   4.6  ...   63.527102  50.323952  401.967626  1.0\n",
              "2             2  0.0  72.0  16.5  ...   80.000000  42.000000  651.000000  1.0\n",
              "3             3  0.0  77.0   4.9  ...   68.970952  90.044752  372.035248  1.0\n",
              "4             4  0.0  77.0   3.0  ...   89.363302  54.137925  220.000000  1.0\n",
              "..          ...  ...   ...   ...  ...         ...        ...         ...  ...\n",
              "273         273  1.0  40.0   5.6  ...   78.000000  20.000000  237.294739  0.0\n",
              "274         274  0.0  26.0   4.7  ...  110.000000  93.000000  175.000000  0.0\n",
              "275         275  1.0  44.0  15.7  ...  109.003091  55.464329  272.000000  0.0\n",
              "276         276  1.0  41.0  12.0  ...  201.000000  14.000000  266.000000  0.0\n",
              "277         277  0.0  53.0  17.9  ...   50.263803 -21.618106  258.000000  0.0\n",
              "\n",
              "[278 rows x 17 columns]"
            ]
          },
          "metadata": {
            "tags": []
          },
          "execution_count": 118
        }
      ]
    },
    {
      "cell_type": "code",
      "metadata": {
        "id": "3ept1MQKbEkA"
      },
      "source": [
        "x = df.iloc[:, 1:16].values\n",
        "y = df.iloc[:, 16].values"
      ],
      "execution_count": 119,
      "outputs": []
    },
    {
      "cell_type": "code",
      "metadata": {
        "id": "SyYh2D__jVQe",
        "outputId": "fea32be3-24c4-4b39-9671-2ae54298f978",
        "colab": {
          "base_uri": "https://localhost:8080/",
          "height": 234
        }
      },
      "source": [
        "x\n"
      ],
      "execution_count": 120,
      "outputs": [
        {
          "output_type": "execute_result",
          "data": {
            "text/plain": [
              "array([[  0.        ,  56.        ,   3.5       , ...,  50.        ,\n",
              "         17.        , 207.        ],\n",
              "       [  0.        ,  72.        ,   4.6       , ...,  63.52710171,\n",
              "         50.3239521 , 401.96762603],\n",
              "       [  0.        ,  72.        ,  16.5       , ...,  80.        ,\n",
              "         42.        , 651.        ],\n",
              "       ...,\n",
              "       [  1.        ,  44.        ,  15.7       , ..., 109.00309115,\n",
              "         55.46432938, 272.        ],\n",
              "       [  1.        ,  41.        ,  12.        , ..., 201.        ,\n",
              "         14.        , 266.        ],\n",
              "       [  0.        ,  53.        ,  17.9       , ...,  50.26380301,\n",
              "        -21.61810601, 258.        ]])"
            ]
          },
          "metadata": {
            "tags": []
          },
          "execution_count": 120
        }
      ]
    },
    {
      "cell_type": "code",
      "metadata": {
        "id": "Lqtva6GldezP"
      },
      "source": [
        "######### KNN IMPUTED DATASET\n",
        "\n",
        "\n",
        "////////////////////////////"
      ],
      "execution_count": null,
      "outputs": []
    },
    {
      "cell_type": "code",
      "metadata": {
        "id": "BcWdMMb1b2n-",
        "cellView": "form"
      },
      "source": [
        "#@title CLASSIFIER1:KNN\n"
      ],
      "execution_count": null,
      "outputs": []
    },
    {
      "cell_type": "code",
      "metadata": {
        "id": "mHvnu5Qxb4As"
      },
      "source": [
        "# Train Test Split\n",
        "from sklearn.metrics import classification_report, confusion_matrix, accuracy_score\n",
        "from sklearn.model_selection import train_test_split\n",
        "from sklearn.neighbors import KNeighborsClassifier\n",
        "\n"
      ],
      "execution_count": 121,
      "outputs": []
    },
    {
      "cell_type": "code",
      "metadata": {
        "id": "fIrGqYivcJ2X"
      },
      "source": [
        "x_train, x_test, y_train, y_test = train_test_split(x, y, test_size=0.20)"
      ],
      "execution_count": 122,
      "outputs": []
    },
    {
      "cell_type": "code",
      "metadata": {
        "id": "9CGcUn9j4e3L",
        "outputId": "df3f9721-0f4b-411c-d1ab-69d2e6bcccf2",
        "colab": {
          "base_uri": "https://localhost:8080/",
          "height": 234
        }
      },
      "source": [
        "x_train"
      ],
      "execution_count": 138,
      "outputs": [
        {
          "output_type": "execute_result",
          "data": {
            "text/plain": [
              "array([[ 1.48909076,  1.06482039,  0.44952996, ..., -0.37580152,\n",
              "        -0.63751765,  0.28832271],\n",
              "       [-0.67155074,  0.83697448,  2.99746352, ...,  1.15757937,\n",
              "         0.40963928,  1.85634313],\n",
              "       [-0.67155074, -1.78325342, -0.08044022, ..., -0.42602029,\n",
              "        -0.60320545, -0.86090965],\n",
              "       ...,\n",
              "       [-0.67155074,  1.06482039, -1.05884671, ..., -0.41784882,\n",
              "        -0.21829322, -0.43763998],\n",
              "       [-0.67155074,  1.06482039,  0.06224406, ..., -0.18748113,\n",
              "        -0.57747131,  0.02348365],\n",
              "       [-0.67155074, -0.24529356, -0.63079387, ..., -0.47623906,\n",
              "        -0.51742496, -0.2229883 ]])"
            ]
          },
          "metadata": {
            "tags": []
          },
          "execution_count": 138
        }
      ]
    },
    {
      "cell_type": "code",
      "metadata": {
        "id": "JyuboGgrcsOi"
      },
      "source": [
        "# Preprocessing\n",
        "\n",
        "from sklearn.preprocessing import StandardScaler\n",
        "scaler = StandardScaler()\n",
        "scaler.fit(x_train)\n",
        "\n",
        "x_train = scaler.transform(x_train)\n",
        "x_test = scaler.transform(x_test)"
      ],
      "execution_count": 123,
      "outputs": []
    },
    {
      "cell_type": "code",
      "metadata": {
        "id": "VXXfo3iycaSP",
        "outputId": "ed791d6b-e95a-4488-df51-9c417cf96a98",
        "colab": {
          "base_uri": "https://localhost:8080/",
          "height": 67
        }
      },
      "source": [
        "KNNclassifier = KNeighborsClassifier(n_neighbors = 20)\n",
        "KNNclassifier.fit(x_train, y_train)"
      ],
      "execution_count": 124,
      "outputs": [
        {
          "output_type": "execute_result",
          "data": {
            "text/plain": [
              "KNeighborsClassifier(algorithm='auto', leaf_size=30, metric='minkowski',\n",
              "                     metric_params=None, n_jobs=None, n_neighbors=20, p=2,\n",
              "                     weights='uniform')"
            ]
          },
          "metadata": {
            "tags": []
          },
          "execution_count": 124
        }
      ]
    },
    {
      "cell_type": "code",
      "metadata": {
        "id": "9b1IXE2Zcb62"
      },
      "source": [
        "y_pred = KNNclassifier.predict(x_test)"
      ],
      "execution_count": 125,
      "outputs": []
    },
    {
      "cell_type": "code",
      "metadata": {
        "id": "17zIkviucfn2",
        "outputId": "b4677f82-12be-4b59-b1d1-1c785b88c04f",
        "colab": {
          "base_uri": "https://localhost:8080/",
          "height": 217
        }
      },
      "source": [
        "print(confusion_matrix(y_test, y_pred))\n",
        "print(classification_report(y_test, y_pred))\n",
        "print('KNN acc:',accuracy_score(y_test, y_pred))"
      ],
      "execution_count": 126,
      "outputs": [
        {
          "output_type": "stream",
          "text": [
            "[[17  6]\n",
            " [ 6 27]]\n",
            "              precision    recall  f1-score   support\n",
            "\n",
            "         0.0       0.74      0.74      0.74        23\n",
            "         1.0       0.82      0.82      0.82        33\n",
            "\n",
            "    accuracy                           0.79        56\n",
            "   macro avg       0.78      0.78      0.78        56\n",
            "weighted avg       0.79      0.79      0.79        56\n",
            "\n",
            "KNN acc: 0.7857142857142857\n"
          ],
          "name": "stdout"
        }
      ]
    },
    {
      "cell_type": "code",
      "metadata": {
        "id": "jYuZ1c8YcljC",
        "cellView": "form"
      },
      "source": [
        "#@title CLASSIFIER 2:DECISION TREE\n",
        "\n",
        "\n",
        "\n"
      ],
      "execution_count": null,
      "outputs": []
    },
    {
      "cell_type": "code",
      "metadata": {
        "id": "t8dtVcP3d7VR"
      },
      "source": [
        "#from sklearn.model_selection import train_test_split\n",
        "#x_train, x_test, y_train, y_test = train_test_split(x, y, test_size=0.2)"
      ],
      "execution_count": null,
      "outputs": []
    },
    {
      "cell_type": "code",
      "metadata": {
        "id": "kUrfCdeUiUrC",
        "outputId": "395ffd4c-83f8-4e3d-ab42-3fb9d11367c7",
        "colab": {
          "base_uri": "https://localhost:8080/",
          "height": 117
        }
      },
      "source": [
        "from sklearn.tree import DecisionTreeClassifier\n",
        "Decclassifier = DecisionTreeClassifier(criterion=\"entropy\", max_depth = 5)\n",
        "Decclassifier "
      ],
      "execution_count": 127,
      "outputs": [
        {
          "output_type": "execute_result",
          "data": {
            "text/plain": [
              "DecisionTreeClassifier(ccp_alpha=0.0, class_weight=None, criterion='entropy',\n",
              "                       max_depth=5, max_features=None, max_leaf_nodes=None,\n",
              "                       min_impurity_decrease=0.0, min_impurity_split=None,\n",
              "                       min_samples_leaf=1, min_samples_split=2,\n",
              "                       min_weight_fraction_leaf=0.0, presort='deprecated',\n",
              "                       random_state=None, splitter='best')"
            ]
          },
          "metadata": {
            "tags": []
          },
          "execution_count": 127
        }
      ]
    },
    {
      "cell_type": "code",
      "metadata": {
        "id": "LceNNtJkiZl-"
      },
      "source": [
        "\n",
        "Decclassifier.fit(x_train,y_train)\n",
        "y_pred = Decclassifier.predict(x_test)"
      ],
      "execution_count": 128,
      "outputs": []
    },
    {
      "cell_type": "code",
      "metadata": {
        "id": "BY2m0dkYicFm",
        "outputId": "26fcaaec-5232-4bbf-ce38-a39f04a421f8",
        "colab": {
          "base_uri": "https://localhost:8080/",
          "height": 33
        }
      },
      "source": [
        "from sklearn import metrics\n",
        "print(\"DecisionTrees's Accuracy: \", metrics.accuracy_score(y_test, y_pred))"
      ],
      "execution_count": 129,
      "outputs": [
        {
          "output_type": "stream",
          "text": [
            "DecisionTrees's Accuracy:  0.8035714285714286\n"
          ],
          "name": "stdout"
        }
      ]
    },
    {
      "cell_type": "code",
      "metadata": {
        "id": "KxxzJgK7lp4Y",
        "outputId": "ea7b4760-f68e-414e-8f42-ac98e758fef8",
        "colab": {
          "base_uri": "https://localhost:8080/",
          "height": 217
        }
      },
      "source": [
        "print(confusion_matrix(y_test, y_pred))\n",
        "print(classification_report(y_test, y_pred))\n",
        "print('DecisionTree acc:',accuracy_score(y_test, y_pred))"
      ],
      "execution_count": 130,
      "outputs": [
        {
          "output_type": "stream",
          "text": [
            "[[21  2]\n",
            " [ 9 24]]\n",
            "              precision    recall  f1-score   support\n",
            "\n",
            "         0.0       0.70      0.91      0.79        23\n",
            "         1.0       0.92      0.73      0.81        33\n",
            "\n",
            "    accuracy                           0.80        56\n",
            "   macro avg       0.81      0.82      0.80        56\n",
            "weighted avg       0.83      0.80      0.80        56\n",
            "\n",
            "DecisionTree acc: 0.8035714285714286\n"
          ],
          "name": "stdout"
        }
      ]
    },
    {
      "cell_type": "code",
      "metadata": {
        "id": "0fVngJNsioXI",
        "cellView": "form"
      },
      "source": [
        "#@title CLASSIFIER 3:SVM\n"
      ],
      "execution_count": null,
      "outputs": []
    },
    {
      "cell_type": "code",
      "metadata": {
        "id": "EsMY4pwClvr0",
        "outputId": "eef35af2-f5d5-4922-b862-cc7db8be3231",
        "colab": {
          "base_uri": "https://localhost:8080/",
          "height": 84
        }
      },
      "source": [
        "\n",
        "# Polynomial Kernel\n",
        "from sklearn.svm import SVC   # Support Vector Classifier\n",
        "SVMclassifier = SVC(kernel ='rbf')\n",
        "SVMclassifier.fit(x_train, y_train)"
      ],
      "execution_count": 131,
      "outputs": [
        {
          "output_type": "execute_result",
          "data": {
            "text/plain": [
              "SVC(C=1.0, break_ties=False, cache_size=200, class_weight=None, coef0=0.0,\n",
              "    decision_function_shape='ovr', degree=3, gamma='scale', kernel='rbf',\n",
              "    max_iter=-1, probability=False, random_state=None, shrinking=True,\n",
              "    tol=0.001, verbose=False)"
            ]
          },
          "metadata": {
            "tags": []
          },
          "execution_count": 131
        }
      ]
    },
    {
      "cell_type": "code",
      "metadata": {
        "id": "wZ6ZDTC24km0",
        "outputId": "284fb761-0c1f-4e63-abde-16a7eef1b816",
        "colab": {
          "base_uri": "https://localhost:8080/",
          "height": 234
        }
      },
      "source": [
        "x_train"
      ],
      "execution_count": 139,
      "outputs": [
        {
          "output_type": "execute_result",
          "data": {
            "text/plain": [
              "array([[ 1.48909076,  1.06482039,  0.44952996, ..., -0.37580152,\n",
              "        -0.63751765,  0.28832271],\n",
              "       [-0.67155074,  0.83697448,  2.99746352, ...,  1.15757937,\n",
              "         0.40963928,  1.85634313],\n",
              "       [-0.67155074, -1.78325342, -0.08044022, ..., -0.42602029,\n",
              "        -0.60320545, -0.86090965],\n",
              "       ...,\n",
              "       [-0.67155074,  1.06482039, -1.05884671, ..., -0.41784882,\n",
              "        -0.21829322, -0.43763998],\n",
              "       [-0.67155074,  1.06482039,  0.06224406, ..., -0.18748113,\n",
              "        -0.57747131,  0.02348365],\n",
              "       [-0.67155074, -0.24529356, -0.63079387, ..., -0.47623906,\n",
              "        -0.51742496, -0.2229883 ]])"
            ]
          },
          "metadata": {
            "tags": []
          },
          "execution_count": 139
        }
      ]
    },
    {
      "cell_type": "code",
      "metadata": {
        "id": "0CnTqtEel3i4"
      },
      "source": [
        "y_pred = SVMclassifier.predict(x_test)"
      ],
      "execution_count": 132,
      "outputs": []
    },
    {
      "cell_type": "code",
      "metadata": {
        "id": "1jkvcZopl43K",
        "outputId": "60de4fb4-20d5-4988-fb3e-6b14c214e5f0",
        "colab": {
          "base_uri": "https://localhost:8080/",
          "height": 217
        }
      },
      "source": [
        "# Evaluating the Algorithm\n",
        "print(confusion_matrix(y_test, y_pred))\n",
        "print(classification_report(y_test, y_pred))\n",
        "print(accuracy_score(y_test, y_pred))"
      ],
      "execution_count": 134,
      "outputs": [
        {
          "output_type": "stream",
          "text": [
            "[[17  6]\n",
            " [ 5 28]]\n",
            "              precision    recall  f1-score   support\n",
            "\n",
            "         0.0       0.77      0.74      0.76        23\n",
            "         1.0       0.82      0.85      0.84        33\n",
            "\n",
            "    accuracy                           0.80        56\n",
            "   macro avg       0.80      0.79      0.80        56\n",
            "weighted avg       0.80      0.80      0.80        56\n",
            "\n",
            "0.8035714285714286\n"
          ],
          "name": "stdout"
        }
      ]
    },
    {
      "cell_type": "code",
      "metadata": {
        "id": "-67x3yQxl8Hr",
        "cellView": "form"
      },
      "source": [
        "#@title Classifier 4: Random Forest \n"
      ],
      "execution_count": null,
      "outputs": []
    },
    {
      "cell_type": "code",
      "metadata": {
        "id": "9xeoeggImXiV",
        "outputId": "d4bab199-6376-4f4d-89ab-8874a2a5e9b0",
        "colab": {
          "base_uri": "https://localhost:8080/",
          "height": 150
        }
      },
      "source": [
        "# Train the Algorithm\n",
        "from sklearn.ensemble import RandomForestClassifier\n",
        "RFclassifier = RandomForestClassifier(n_estimators = 20)\n",
        "RFclassifier.fit(x_train, y_train)"
      ],
      "execution_count": 135,
      "outputs": [
        {
          "output_type": "execute_result",
          "data": {
            "text/plain": [
              "RandomForestClassifier(bootstrap=True, ccp_alpha=0.0, class_weight=None,\n",
              "                       criterion='gini', max_depth=None, max_features='auto',\n",
              "                       max_leaf_nodes=None, max_samples=None,\n",
              "                       min_impurity_decrease=0.0, min_impurity_split=None,\n",
              "                       min_samples_leaf=1, min_samples_split=2,\n",
              "                       min_weight_fraction_leaf=0.0, n_estimators=20,\n",
              "                       n_jobs=None, oob_score=False, random_state=None,\n",
              "                       verbose=0, warm_start=False)"
            ]
          },
          "metadata": {
            "tags": []
          },
          "execution_count": 135
        }
      ]
    },
    {
      "cell_type": "code",
      "metadata": {
        "id": "HNBgCWUwmg-w"
      },
      "source": [
        "\n",
        "y_pred = RFclassifier.predict(x_test)"
      ],
      "execution_count": 136,
      "outputs": []
    },
    {
      "cell_type": "code",
      "metadata": {
        "id": "c9674ZgOmor9",
        "outputId": "0523447b-58c9-480e-80c4-2eda1cae143d",
        "colab": {
          "base_uri": "https://localhost:8080/",
          "height": 217
        }
      },
      "source": [
        "print(confusion_matrix(y_test, y_pred))\n",
        "print(classification_report(y_test, y_pred))\n",
        "print(accuracy_score(y_test, y_pred))"
      ],
      "execution_count": 137,
      "outputs": [
        {
          "output_type": "stream",
          "text": [
            "[[19  4]\n",
            " [ 2 31]]\n",
            "              precision    recall  f1-score   support\n",
            "\n",
            "         0.0       0.90      0.83      0.86        23\n",
            "         1.0       0.89      0.94      0.91        33\n",
            "\n",
            "    accuracy                           0.89        56\n",
            "   macro avg       0.90      0.88      0.89        56\n",
            "weighted avg       0.89      0.89      0.89        56\n",
            "\n",
            "0.8928571428571429\n"
          ],
          "name": "stdout"
        }
      ]
    },
    {
      "cell_type": "code",
      "metadata": {
        "id": "oYVaVvsN4Vf5",
        "outputId": "ce9f0ca4-ea3e-4840-af0a-b386f5b14d94",
        "colab": {
          "base_uri": "https://localhost:8080/",
          "height": 217
        }
      },
      "source": [
        "# Train the Algorithm\n",
        "RF1classifier = RandomForestClassifier(n_estimators = 75)\n",
        "RF1classifier.fit(x_train, y_train)\n",
        "\n",
        "y_pred = RF1classifier.predict(x_test)\n",
        "print(confusion_matrix(y_test, y_pred))\n",
        "print(classification_report(y_test, y_pred))\n",
        "print(accuracy_score(y_test, y_pred))"
      ],
      "execution_count": 166,
      "outputs": [
        {
          "output_type": "stream",
          "text": [
            "[[18  5]\n",
            " [ 3 30]]\n",
            "              precision    recall  f1-score   support\n",
            "\n",
            "         0.0       0.86      0.78      0.82        23\n",
            "         1.0       0.86      0.91      0.88        33\n",
            "\n",
            "    accuracy                           0.86        56\n",
            "   macro avg       0.86      0.85      0.85        56\n",
            "weighted avg       0.86      0.86      0.86        56\n",
            "\n",
            "0.8571428571428571\n"
          ],
          "name": "stdout"
        }
      ]
    },
    {
      "cell_type": "code",
      "metadata": {
        "id": "bQsuv5rmmq4B",
        "cellView": "form"
      },
      "source": [
        "#@title Classifier 5: Random Forest regressor\n"
      ],
      "execution_count": 149,
      "outputs": []
    },
    {
      "cell_type": "code",
      "metadata": {
        "id": "MzQtJTMnng7M"
      },
      "source": [
        "from sklearn.ensemble import RandomForestRegressor\n",
        "from sklearn.model_selection import cross_val_score"
      ],
      "execution_count": 167,
      "outputs": []
    },
    {
      "cell_type": "code",
      "metadata": {
        "id": "hNPM7F1Inmyo"
      },
      "source": [
        "forest = RandomForestRegressor(n_estimators=100)"
      ],
      "execution_count": 168,
      "outputs": []
    },
    {
      "cell_type": "code",
      "metadata": {
        "id": "ZuTYmXB6npUj"
      },
      "source": [
        "cross_val1 = cross_val_score(forest, x_train,y_train, cv=56)  "
      ],
      "execution_count": 169,
      "outputs": []
    },
    {
      "cell_type": "code",
      "metadata": {
        "id": "bd1ZNzs_nr3P"
      },
      "source": [
        "forest = forest.fit(x_train, y_train)"
      ],
      "execution_count": 170,
      "outputs": []
    },
    {
      "cell_type": "code",
      "metadata": {
        "id": "aIaEQRTPnx0t"
      },
      "source": [
        "y_pred = forest.predict(x_test)"
      ],
      "execution_count": 171,
      "outputs": []
    },
    {
      "cell_type": "code",
      "metadata": {
        "id": "YbfjVba1nzMO",
        "outputId": "90d262f3-d752-4d2a-dbe3-1d0e1048b6bc",
        "colab": {
          "base_uri": "https://localhost:8080/",
          "height": 336
        }
      },
      "source": [
        "#print(confusion_matrix(y_test, y_pred))\n",
        "#print(classification_report(y_test, y_pred))\n",
        "#print(accuracy_score(cross_val1, y_pred))\n",
        "print(\"DecisionTrees's Accuracy: \", metrics.accuracy_score(cross_val1, y_pred))"
      ],
      "execution_count": 172,
      "outputs": [
        {
          "output_type": "error",
          "ename": "ValueError",
          "evalue": "ignored",
          "traceback": [
            "\u001b[0;31m---------------------------------------------------------------------------\u001b[0m",
            "\u001b[0;31mValueError\u001b[0m                                Traceback (most recent call last)",
            "\u001b[0;32m<ipython-input-172-e6c2c2c27ac3>\u001b[0m in \u001b[0;36m<module>\u001b[0;34m()\u001b[0m\n\u001b[1;32m      2\u001b[0m \u001b[0;31m#print(classification_report(y_test, y_pred))\u001b[0m\u001b[0;34m\u001b[0m\u001b[0;34m\u001b[0m\u001b[0;34m\u001b[0m\u001b[0m\n\u001b[1;32m      3\u001b[0m \u001b[0;31m#print(accuracy_score(cross_val1, y_pred))\u001b[0m\u001b[0;34m\u001b[0m\u001b[0;34m\u001b[0m\u001b[0;34m\u001b[0m\u001b[0m\n\u001b[0;32m----> 4\u001b[0;31m \u001b[0mprint\u001b[0m\u001b[0;34m(\u001b[0m\u001b[0;34m\"DecisionTrees's Accuracy: \"\u001b[0m\u001b[0;34m,\u001b[0m \u001b[0mmetrics\u001b[0m\u001b[0;34m.\u001b[0m\u001b[0maccuracy_score\u001b[0m\u001b[0;34m(\u001b[0m\u001b[0mcross_val1\u001b[0m\u001b[0;34m,\u001b[0m \u001b[0my_pred\u001b[0m\u001b[0;34m)\u001b[0m\u001b[0;34m)\u001b[0m\u001b[0;34m\u001b[0m\u001b[0;34m\u001b[0m\u001b[0m\n\u001b[0m",
            "\u001b[0;32m/usr/local/lib/python3.6/dist-packages/sklearn/metrics/_classification.py\u001b[0m in \u001b[0;36maccuracy_score\u001b[0;34m(y_true, y_pred, normalize, sample_weight)\u001b[0m\n\u001b[1;32m    183\u001b[0m \u001b[0;34m\u001b[0m\u001b[0m\n\u001b[1;32m    184\u001b[0m     \u001b[0;31m# Compute accuracy for each possible representation\u001b[0m\u001b[0;34m\u001b[0m\u001b[0;34m\u001b[0m\u001b[0;34m\u001b[0m\u001b[0m\n\u001b[0;32m--> 185\u001b[0;31m     \u001b[0my_type\u001b[0m\u001b[0;34m,\u001b[0m \u001b[0my_true\u001b[0m\u001b[0;34m,\u001b[0m \u001b[0my_pred\u001b[0m \u001b[0;34m=\u001b[0m \u001b[0m_check_targets\u001b[0m\u001b[0;34m(\u001b[0m\u001b[0my_true\u001b[0m\u001b[0;34m,\u001b[0m \u001b[0my_pred\u001b[0m\u001b[0;34m)\u001b[0m\u001b[0;34m\u001b[0m\u001b[0;34m\u001b[0m\u001b[0m\n\u001b[0m\u001b[1;32m    186\u001b[0m     \u001b[0mcheck_consistent_length\u001b[0m\u001b[0;34m(\u001b[0m\u001b[0my_true\u001b[0m\u001b[0;34m,\u001b[0m \u001b[0my_pred\u001b[0m\u001b[0;34m,\u001b[0m \u001b[0msample_weight\u001b[0m\u001b[0;34m)\u001b[0m\u001b[0;34m\u001b[0m\u001b[0;34m\u001b[0m\u001b[0m\n\u001b[1;32m    187\u001b[0m     \u001b[0;32mif\u001b[0m \u001b[0my_type\u001b[0m\u001b[0;34m.\u001b[0m\u001b[0mstartswith\u001b[0m\u001b[0;34m(\u001b[0m\u001b[0;34m'multilabel'\u001b[0m\u001b[0;34m)\u001b[0m\u001b[0;34m:\u001b[0m\u001b[0;34m\u001b[0m\u001b[0;34m\u001b[0m\u001b[0m\n",
            "\u001b[0;32m/usr/local/lib/python3.6/dist-packages/sklearn/metrics/_classification.py\u001b[0m in \u001b[0;36m_check_targets\u001b[0;34m(y_true, y_pred)\u001b[0m\n\u001b[1;32m     95\u001b[0m     \u001b[0;31m# No metrics support \"multiclass-multioutput\" format\u001b[0m\u001b[0;34m\u001b[0m\u001b[0;34m\u001b[0m\u001b[0;34m\u001b[0m\u001b[0m\n\u001b[1;32m     96\u001b[0m     \u001b[0;32mif\u001b[0m \u001b[0;34m(\u001b[0m\u001b[0my_type\u001b[0m \u001b[0;32mnot\u001b[0m \u001b[0;32min\u001b[0m \u001b[0;34m[\u001b[0m\u001b[0;34m\"binary\"\u001b[0m\u001b[0;34m,\u001b[0m \u001b[0;34m\"multiclass\"\u001b[0m\u001b[0;34m,\u001b[0m \u001b[0;34m\"multilabel-indicator\"\u001b[0m\u001b[0;34m]\u001b[0m\u001b[0;34m)\u001b[0m\u001b[0;34m:\u001b[0m\u001b[0;34m\u001b[0m\u001b[0;34m\u001b[0m\u001b[0m\n\u001b[0;32m---> 97\u001b[0;31m         \u001b[0;32mraise\u001b[0m \u001b[0mValueError\u001b[0m\u001b[0;34m(\u001b[0m\u001b[0;34m\"{0} is not supported\"\u001b[0m\u001b[0;34m.\u001b[0m\u001b[0mformat\u001b[0m\u001b[0;34m(\u001b[0m\u001b[0my_type\u001b[0m\u001b[0;34m)\u001b[0m\u001b[0;34m)\u001b[0m\u001b[0;34m\u001b[0m\u001b[0;34m\u001b[0m\u001b[0m\n\u001b[0m\u001b[1;32m     98\u001b[0m \u001b[0;34m\u001b[0m\u001b[0m\n\u001b[1;32m     99\u001b[0m     \u001b[0;32mif\u001b[0m \u001b[0my_type\u001b[0m \u001b[0;32min\u001b[0m \u001b[0;34m[\u001b[0m\u001b[0;34m\"binary\"\u001b[0m\u001b[0;34m,\u001b[0m \u001b[0;34m\"multiclass\"\u001b[0m\u001b[0;34m]\u001b[0m\u001b[0;34m:\u001b[0m\u001b[0;34m\u001b[0m\u001b[0;34m\u001b[0m\u001b[0m\n",
            "\u001b[0;31mValueError\u001b[0m: continuous is not supported"
          ]
        }
      ]
    },
    {
      "cell_type": "code",
      "metadata": {
        "id": "jLL5g2A8n2Bv",
        "cellView": "form"
      },
      "source": [
        "#@title Classifier 6: LOGISTIC REGRESSION\n"
      ],
      "execution_count": null,
      "outputs": []
    },
    {
      "cell_type": "code",
      "metadata": {
        "id": "g24t5N2iog4o",
        "outputId": "8145a3e6-f97b-4936-b7da-b0fe2f0a30b4",
        "colab": {
          "base_uri": "https://localhost:8080/",
          "height": 100
        }
      },
      "source": [
        "from sklearn.linear_model import LogisticRegression\n",
        "LR = LogisticRegression(C=0.009, solver='liblinear')\n",
        "LR.fit(x_train,y_train)"
      ],
      "execution_count": 207,
      "outputs": [
        {
          "output_type": "execute_result",
          "data": {
            "text/plain": [
              "LogisticRegression(C=0.009, class_weight=None, dual=False, fit_intercept=True,\n",
              "                   intercept_scaling=1, l1_ratio=None, max_iter=100,\n",
              "                   multi_class='auto', n_jobs=None, penalty='l2',\n",
              "                   random_state=None, solver='liblinear', tol=0.0001, verbose=0,\n",
              "                   warm_start=False)"
            ]
          },
          "metadata": {
            "tags": []
          },
          "execution_count": 207
        }
      ]
    },
    {
      "cell_type": "code",
      "metadata": {
        "id": "fDwUS4FkoqEj"
      },
      "source": [
        "LR_pred = LR.predict(x_test)"
      ],
      "execution_count": 208,
      "outputs": []
    },
    {
      "cell_type": "code",
      "metadata": {
        "id": "uuUKqIbjor-i",
        "outputId": "2fb50400-e560-4c5d-d907-451709804645",
        "colab": {
          "base_uri": "https://localhost:8080/",
          "height": 217
        }
      },
      "source": [
        "print(confusion_matrix(y_test, LR_pred))\n",
        "print(classification_report(y_test, LR_pred))\n",
        "print(accuracy_score(y_test, LR_pred))"
      ],
      "execution_count": 209,
      "outputs": [
        {
          "output_type": "stream",
          "text": [
            "[[18  5]\n",
            " [ 9 24]]\n",
            "              precision    recall  f1-score   support\n",
            "\n",
            "         0.0       0.67      0.78      0.72        23\n",
            "         1.0       0.83      0.73      0.77        33\n",
            "\n",
            "    accuracy                           0.75        56\n",
            "   macro avg       0.75      0.75      0.75        56\n",
            "weighted avg       0.76      0.75      0.75        56\n",
            "\n",
            "0.75\n"
          ],
          "name": "stdout"
        }
      ]
    },
    {
      "cell_type": "code",
      "metadata": {
        "id": "4QIDxwR9otxV",
        "cellView": "form"
      },
      "source": [
        "#@title CLASSIFIER 7: GAUSSIAN\n"
      ],
      "execution_count": null,
      "outputs": []
    },
    {
      "cell_type": "code",
      "metadata": {
        "id": "iCmjgyZDpaeB"
      },
      "source": [
        "# import Gaussian Naive Bayes import GaussianNB\n",
        "from sklearn.naive_bayes import GaussianNB\n",
        "\n",
        "#Create a Gaussian Classifier \n",
        "gnb = GaussianNB()\n",
        "\n",
        "# Train the model using the training sets\n",
        "gnb.fit(x_train, y_train)\n",
        "\n",
        "# Predict the response for the test dataset\n",
        "y_pred = gnb.predict(x_test)"
      ],
      "execution_count": 210,
      "outputs": []
    },
    {
      "cell_type": "code",
      "metadata": {
        "id": "Kpxnj0_spiop",
        "outputId": "f84784b3-e3e0-4f19-f769-24e03cde07c5",
        "colab": {
          "base_uri": "https://localhost:8080/",
          "height": 217
        }
      },
      "source": [
        "print(confusion_matrix(y_test, y_pred))\n",
        "print(classification_report(y_test, y_pred))\n",
        "print(accuracy_score(y_test, y_pred))"
      ],
      "execution_count": 211,
      "outputs": [
        {
          "output_type": "stream",
          "text": [
            "[[19  4]\n",
            " [12 21]]\n",
            "              precision    recall  f1-score   support\n",
            "\n",
            "         0.0       0.61      0.83      0.70        23\n",
            "         1.0       0.84      0.64      0.72        33\n",
            "\n",
            "    accuracy                           0.71        56\n",
            "   macro avg       0.73      0.73      0.71        56\n",
            "weighted avg       0.75      0.71      0.72        56\n",
            "\n",
            "0.7142857142857143\n"
          ],
          "name": "stdout"
        }
      ]
    },
    {
      "cell_type": "code",
      "metadata": {
        "id": "-DIiG0gXprP5",
        "outputId": "c5854ae0-27e5-4fdc-d21e-6ccf791c27dc",
        "colab": {
          "base_uri": "https://localhost:8080/",
          "height": 33
        }
      },
      "source": [
        "print(\"Accuracy:\",metrics.accuracy_score(y_test, y_pred))"
      ],
      "execution_count": 212,
      "outputs": [
        {
          "output_type": "stream",
          "text": [
            "Accuracy: 0.7142857142857143\n"
          ],
          "name": "stdout"
        }
      ]
    },
    {
      "cell_type": "code",
      "metadata": {
        "id": "C_li4c55p9cL",
        "cellView": "form"
      },
      "source": [
        "#@title CLASSIFIER 8: with LDA\n"
      ],
      "execution_count": null,
      "outputs": []
    },
    {
      "cell_type": "code",
      "metadata": {
        "id": "qn4hAbOwvHgg"
      },
      "source": [
        "from sklearn.discriminant_analysis import LinearDiscriminantAnalysis as LDA\n",
        "\n",
        "lda = LDA(n_components=1)\n",
        "X_train = lda.fit_transform(x_train, y_train)\n",
        "X_test = lda.transform(x_test)"
      ],
      "execution_count": 213,
      "outputs": []
    },
    {
      "cell_type": "code",
      "metadata": {
        "id": "AzGLXXY2vHiz"
      },
      "source": [
        "from sklearn.ensemble import RandomForestClassifier\n",
        "\n",
        "classifier = RandomForestClassifier(n_estimators=100)\n",
        "\n",
        "classifier.fit(X_train, y_train)\n",
        "y_pred = classifier.predict(X_test)"
      ],
      "execution_count": 224,
      "outputs": []
    },
    {
      "cell_type": "code",
      "metadata": {
        "id": "Hs7Z-m1wvHmK",
        "outputId": "22e0b2ba-7fd6-4ee0-8596-cd5c068b893f",
        "colab": {
          "base_uri": "https://localhost:8080/",
          "height": 67
        }
      },
      "source": [
        "from sklearn.metrics import confusion_matrix\n",
        "from sklearn.metrics import accuracy_score\n",
        "\n",
        "cm = confusion_matrix(y_test, y_pred)\n",
        "print(cm)\n",
        "print('Accuracy' + str(accuracy_score(y_test, y_pred)))"
      ],
      "execution_count": 225,
      "outputs": [
        {
          "output_type": "stream",
          "text": [
            "[[17  6]\n",
            " [ 5 28]]\n",
            "Accuracy0.8035714285714286\n"
          ],
          "name": "stdout"
        }
      ]
    },
    {
      "cell_type": "code",
      "metadata": {
        "id": "C6Ewp2flpuPf",
        "cellView": "form"
      },
      "source": [
        "#@title CLASSIFIER 9: PERCEPTRON\n"
      ],
      "execution_count": null,
      "outputs": []
    },
    {
      "cell_type": "code",
      "metadata": {
        "id": "itkwc6e3p26E"
      },
      "source": [
        "from sklearn.linear_model import Perceptron"
      ],
      "execution_count": 226,
      "outputs": []
    },
    {
      "cell_type": "code",
      "metadata": {
        "id": "n2cROjr8p273",
        "outputId": "edbea130-1aef-4402-cb7b-6902f6493ff0",
        "colab": {
          "base_uri": "https://localhost:8080/",
          "height": 84
        }
      },
      "source": [
        "cls= Perceptron()\n",
        "cls.fit(x_train,y_train)\n"
      ],
      "execution_count": 227,
      "outputs": [
        {
          "output_type": "execute_result",
          "data": {
            "text/plain": [
              "Perceptron(alpha=0.0001, class_weight=None, early_stopping=False, eta0=1.0,\n",
              "           fit_intercept=True, max_iter=1000, n_iter_no_change=5, n_jobs=None,\n",
              "           penalty=None, random_state=0, shuffle=True, tol=0.001,\n",
              "           validation_fraction=0.1, verbose=0, warm_start=False)"
            ]
          },
          "metadata": {
            "tags": []
          },
          "execution_count": 227
        }
      ]
    },
    {
      "cell_type": "code",
      "metadata": {
        "id": "-CTxpuLFp2-h"
      },
      "source": [
        "y_pred = cls.predict(x_test)"
      ],
      "execution_count": 228,
      "outputs": []
    },
    {
      "cell_type": "code",
      "metadata": {
        "id": "pxdoqbESp3Ad",
        "outputId": "a3c2f7a7-9943-47d3-ade9-f8435a9d5772",
        "colab": {
          "base_uri": "https://localhost:8080/",
          "height": 217
        }
      },
      "source": [
        "print(confusion_matrix(y_test, y_pred))\n",
        "print(classification_report(y_test, y_pred))\n",
        "print(accuracy_score(y_test, y_pred))"
      ],
      "execution_count": 229,
      "outputs": [
        {
          "output_type": "stream",
          "text": [
            "[[13 10]\n",
            " [ 8 25]]\n",
            "              precision    recall  f1-score   support\n",
            "\n",
            "         0.0       0.62      0.57      0.59        23\n",
            "         1.0       0.71      0.76      0.74        33\n",
            "\n",
            "    accuracy                           0.68        56\n",
            "   macro avg       0.67      0.66      0.66        56\n",
            "weighted avg       0.68      0.68      0.68        56\n",
            "\n",
            "0.6785714285714286\n"
          ],
          "name": "stdout"
        }
      ]
    },
    {
      "cell_type": "code",
      "metadata": {
        "id": "ecNBXwGPp3DN"
      },
      "source": [
        ""
      ],
      "execution_count": null,
      "outputs": []
    },
    {
      "cell_type": "code",
      "metadata": {
        "id": "zkPISIlep3FD"
      },
      "source": [
        ""
      ],
      "execution_count": null,
      "outputs": []
    }
  ]
}